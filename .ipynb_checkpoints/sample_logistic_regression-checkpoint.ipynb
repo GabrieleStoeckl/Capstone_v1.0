{
 "cells": [
  {
   "cell_type": "code",
   "execution_count": 5,
   "id": "d3eed690",
   "metadata": {},
   "outputs": [
    {
     "name": "stderr",
     "output_type": "stream",
     "text": [
      "C:\\Users\\3296422\\AppData\\Local\\Temp\\ipykernel_31200\\1240679846.py:15: SettingWithCopyWarning: \n",
      "A value is trying to be set on a copy of a slice from a DataFrame\n",
      "\n",
      "See the caveats in the documentation: https://pandas.pydata.org/pandas-docs/stable/user_guide/indexing.html#returning-a-view-versus-a-copy\n",
      "  (soft_drinks\n"
     ]
    }
   ],
   "source": [
    "import numpy as np\n",
    "import pandas as pd\n",
    "\n",
    "transactions = pd.read_csv(\"data/transaction_data.csv\")\n",
    "products = pd.read_csv(\"data/product.csv\")\n",
    "\n",
    "transactions = pd.merge(transactions, products, how = \"left\", on = \"PRODUCT_ID\")\n",
    "\n",
    "condition = transactions[\"COMMODITY_DESC\"] == \"SOFT DRINKS\"\n",
    "soft_drinks = transactions[condition]\n",
    "\n",
    "# each row is a purchase event. we will find the first purchase event of each product by household \n",
    "# use WEEK_NO, TRANS_TIME, household_key and PRODUCT_ID to find the first purchase event of a product by household\n",
    "# use the soft_drinks dataframe:\n",
    "(soft_drinks\n",
    " .sort_values(by=[\"household_key\", \"PRODUCT_ID\", \"WEEK_NO\", \"DAY\", \"TRANS_TIME\"], \n",
    "              inplace=True)\n",
    ")\n",
    "\n",
    "# group the data by household_key and PRODUCT_ID\n",
    "grouped = soft_drinks.groupby([\"household_key\", \"PRODUCT_ID\"])\n",
    "# get the first purchase event of each product by household\n",
    "cols_to_keep = [\"household_key\", \"PRODUCT_ID\", \"WEEK_NO\", \"DAY\", \"TRANS_TIME\", \"BASKET_ID\"]\n",
    "first_purchase = grouped.first().reset_index()[cols_to_keep]\n",
    "\n",
    "soft_drinks2 = (pd\n",
    "                .merge(soft_drinks, first_purchase, \n",
    "                       on=[\"household_key\", \"PRODUCT_ID\", \"WEEK_NO\", \"DAY\", \"TRANS_TIME\"], \n",
    "                       how=\"left\")\n",
    "               )\n",
    "\n",
    "# create \"first_purchase\" column, True if there is no NaN in any of the columns, False otherwise\n",
    "soft_drinks2.loc[:, \"first_purchase\"] = ~soft_drinks2.isnull().any(axis=1)"
   ]
  },
  {
   "cell_type": "code",
   "execution_count": 6,
   "id": "e59a95b1",
   "metadata": {},
   "outputs": [
    {
     "data": {
      "text/html": [
       "<div>\n",
       "<style scoped>\n",
       "    .dataframe tbody tr th:only-of-type {\n",
       "        vertical-align: middle;\n",
       "    }\n",
       "\n",
       "    .dataframe tbody tr th {\n",
       "        vertical-align: top;\n",
       "    }\n",
       "\n",
       "    .dataframe thead th {\n",
       "        text-align: right;\n",
       "    }\n",
       "</style>\n",
       "<table border=\"1\" class=\"dataframe\">\n",
       "  <thead>\n",
       "    <tr style=\"text-align: right;\">\n",
       "      <th></th>\n",
       "      <th>household_key</th>\n",
       "      <th>BASKET_ID_x</th>\n",
       "      <th>DAY</th>\n",
       "      <th>PRODUCT_ID</th>\n",
       "      <th>QUANTITY</th>\n",
       "      <th>SALES_VALUE</th>\n",
       "      <th>STORE_ID</th>\n",
       "      <th>RETAIL_DISC</th>\n",
       "      <th>TRANS_TIME</th>\n",
       "      <th>WEEK_NO</th>\n",
       "      <th>COUPON_DISC</th>\n",
       "      <th>COUPON_MATCH_DISC</th>\n",
       "      <th>MANUFACTURER</th>\n",
       "      <th>DEPARTMENT</th>\n",
       "      <th>BRAND</th>\n",
       "      <th>COMMODITY_DESC</th>\n",
       "      <th>SUB_COMMODITY_DESC</th>\n",
       "      <th>CURR_SIZE_OF_PRODUCT</th>\n",
       "      <th>BASKET_ID_y</th>\n",
       "      <th>first_purchase</th>\n",
       "    </tr>\n",
       "  </thead>\n",
       "  <tbody>\n",
       "    <tr>\n",
       "      <th>0</th>\n",
       "      <td>1</td>\n",
       "      <td>28318295376</td>\n",
       "      <td>111</td>\n",
       "      <td>849066</td>\n",
       "      <td>1</td>\n",
       "      <td>5.99</td>\n",
       "      <td>31401</td>\n",
       "      <td>-2.00</td>\n",
       "      <td>1157</td>\n",
       "      <td>17</td>\n",
       "      <td>0.0</td>\n",
       "      <td>0.0</td>\n",
       "      <td>103</td>\n",
       "      <td>GROCERY</td>\n",
       "      <td>National</td>\n",
       "      <td>SOFT DRINKS</td>\n",
       "      <td>SOFT DRINKS 20PK&amp;24PK CAN CARB</td>\n",
       "      <td>12 OZ</td>\n",
       "      <td>2.831830e+10</td>\n",
       "      <td>True</td>\n",
       "    </tr>\n",
       "    <tr>\n",
       "      <th>1</th>\n",
       "      <td>1</td>\n",
       "      <td>32931810580</td>\n",
       "      <td>400</td>\n",
       "      <td>849066</td>\n",
       "      <td>1</td>\n",
       "      <td>4.88</td>\n",
       "      <td>436</td>\n",
       "      <td>-3.11</td>\n",
       "      <td>1144</td>\n",
       "      <td>58</td>\n",
       "      <td>0.0</td>\n",
       "      <td>0.0</td>\n",
       "      <td>103</td>\n",
       "      <td>GROCERY</td>\n",
       "      <td>National</td>\n",
       "      <td>SOFT DRINKS</td>\n",
       "      <td>SOFT DRINKS 20PK&amp;24PK CAN CARB</td>\n",
       "      <td>12 OZ</td>\n",
       "      <td>NaN</td>\n",
       "      <td>False</td>\n",
       "    </tr>\n",
       "    <tr>\n",
       "      <th>2</th>\n",
       "      <td>1</td>\n",
       "      <td>34010015588</td>\n",
       "      <td>472</td>\n",
       "      <td>888104</td>\n",
       "      <td>1</td>\n",
       "      <td>4.99</td>\n",
       "      <td>436</td>\n",
       "      <td>0.00</td>\n",
       "      <td>1125</td>\n",
       "      <td>68</td>\n",
       "      <td>0.0</td>\n",
       "      <td>0.0</td>\n",
       "      <td>869</td>\n",
       "      <td>GROCERY</td>\n",
       "      <td>National</td>\n",
       "      <td>SOFT DRINKS</td>\n",
       "      <td>TEA SWEETENED</td>\n",
       "      <td>16 OZ</td>\n",
       "      <td>3.401002e+10</td>\n",
       "      <td>True</td>\n",
       "    </tr>\n",
       "    <tr>\n",
       "      <th>3</th>\n",
       "      <td>1</td>\n",
       "      <td>34226870754</td>\n",
       "      <td>488</td>\n",
       "      <td>888104</td>\n",
       "      <td>1</td>\n",
       "      <td>4.99</td>\n",
       "      <td>436</td>\n",
       "      <td>0.00</td>\n",
       "      <td>1242</td>\n",
       "      <td>70</td>\n",
       "      <td>0.0</td>\n",
       "      <td>0.0</td>\n",
       "      <td>869</td>\n",
       "      <td>GROCERY</td>\n",
       "      <td>National</td>\n",
       "      <td>SOFT DRINKS</td>\n",
       "      <td>TEA SWEETENED</td>\n",
       "      <td>16 OZ</td>\n",
       "      <td>NaN</td>\n",
       "      <td>False</td>\n",
       "    </tr>\n",
       "    <tr>\n",
       "      <th>4</th>\n",
       "      <td>1</td>\n",
       "      <td>34338535512</td>\n",
       "      <td>494</td>\n",
       "      <td>888104</td>\n",
       "      <td>1</td>\n",
       "      <td>4.99</td>\n",
       "      <td>436</td>\n",
       "      <td>0.00</td>\n",
       "      <td>1055</td>\n",
       "      <td>71</td>\n",
       "      <td>0.0</td>\n",
       "      <td>0.0</td>\n",
       "      <td>869</td>\n",
       "      <td>GROCERY</td>\n",
       "      <td>National</td>\n",
       "      <td>SOFT DRINKS</td>\n",
       "      <td>TEA SWEETENED</td>\n",
       "      <td>16 OZ</td>\n",
       "      <td>NaN</td>\n",
       "      <td>False</td>\n",
       "    </tr>\n",
       "  </tbody>\n",
       "</table>\n",
       "</div>"
      ],
      "text/plain": [
       "   household_key  BASKET_ID_x  DAY  PRODUCT_ID  QUANTITY  SALES_VALUE  \\\n",
       "0              1  28318295376  111      849066         1         5.99   \n",
       "1              1  32931810580  400      849066         1         4.88   \n",
       "2              1  34010015588  472      888104         1         4.99   \n",
       "3              1  34226870754  488      888104         1         4.99   \n",
       "4              1  34338535512  494      888104         1         4.99   \n",
       "\n",
       "   STORE_ID  RETAIL_DISC  TRANS_TIME  WEEK_NO  COUPON_DISC  COUPON_MATCH_DISC  \\\n",
       "0     31401        -2.00        1157       17          0.0                0.0   \n",
       "1       436        -3.11        1144       58          0.0                0.0   \n",
       "2       436         0.00        1125       68          0.0                0.0   \n",
       "3       436         0.00        1242       70          0.0                0.0   \n",
       "4       436         0.00        1055       71          0.0                0.0   \n",
       "\n",
       "   MANUFACTURER DEPARTMENT     BRAND COMMODITY_DESC  \\\n",
       "0           103    GROCERY  National    SOFT DRINKS   \n",
       "1           103    GROCERY  National    SOFT DRINKS   \n",
       "2           869    GROCERY  National    SOFT DRINKS   \n",
       "3           869    GROCERY  National    SOFT DRINKS   \n",
       "4           869    GROCERY  National    SOFT DRINKS   \n",
       "\n",
       "               SUB_COMMODITY_DESC CURR_SIZE_OF_PRODUCT   BASKET_ID_y  \\\n",
       "0  SOFT DRINKS 20PK&24PK CAN CARB                12 OZ  2.831830e+10   \n",
       "1  SOFT DRINKS 20PK&24PK CAN CARB                12 OZ           NaN   \n",
       "2                   TEA SWEETENED                16 OZ  3.401002e+10   \n",
       "3                   TEA SWEETENED                16 OZ           NaN   \n",
       "4                   TEA SWEETENED                16 OZ           NaN   \n",
       "\n",
       "   first_purchase  \n",
       "0            True  \n",
       "1           False  \n",
       "2            True  \n",
       "3           False  \n",
       "4           False  "
      ]
     },
     "execution_count": 6,
     "metadata": {},
     "output_type": "execute_result"
    }
   ],
   "source": [
    "soft_drinks2.head()"
   ]
  },
  {
   "cell_type": "code",
   "execution_count": 7,
   "id": "18331aad",
   "metadata": {},
   "outputs": [
    {
     "data": {
      "text/plain": [
       "False    72353\n",
       "True     45179\n",
       "Name: first_purchase, dtype: int64"
      ]
     },
     "execution_count": 7,
     "metadata": {},
     "output_type": "execute_result"
    }
   ],
   "source": [
    "soft_drinks2['first_purchase'].value_counts()"
   ]
  },
  {
   "cell_type": "code",
   "execution_count": 8,
   "id": "c502e02e",
   "metadata": {},
   "outputs": [
    {
     "data": {
      "text/plain": [
       "Index(['household_key', 'BASKET_ID_x', 'DAY', 'PRODUCT_ID', 'QUANTITY',\n",
       "       'SALES_VALUE', 'STORE_ID', 'RETAIL_DISC', 'TRANS_TIME', 'WEEK_NO',\n",
       "       'COUPON_DISC', 'COUPON_MATCH_DISC', 'MANUFACTURER', 'DEPARTMENT',\n",
       "       'BRAND', 'COMMODITY_DESC', 'SUB_COMMODITY_DESC', 'CURR_SIZE_OF_PRODUCT',\n",
       "       'BASKET_ID_y', 'first_purchase'],\n",
       "      dtype='object')"
      ]
     },
     "execution_count": 8,
     "metadata": {},
     "output_type": "execute_result"
    }
   ],
   "source": [
    "soft_drinks2.columns"
   ]
  },
  {
   "cell_type": "code",
   "execution_count": 17,
   "id": "65ba8b78",
   "metadata": {},
   "outputs": [],
   "source": [
    "# create retail_disc, coupon_disc\n",
    "soft_drinks2.loc[:, \"retail_disc_d\"] = soft_drinks2.loc[:, \"RETAIL_DISC\"].apply(lambda x: 1 if x < 0 else 0)\n",
    "soft_drinks2.loc[:, \"coupon_disc_d\"] = soft_drinks2.loc[:, \"COUPON_DISC\"].apply(lambda x: 1 if x < 0 else 0)"
   ]
  },
  {
   "cell_type": "code",
   "execution_count": 22,
   "id": "daa8075c",
   "metadata": {},
   "outputs": [],
   "source": [
    "soft_drinks2.loc[:, \"first_purchase\"] = soft_drinks2.loc[:, \"first_purchase\"].apply(lambda x: 1 if x else 0)"
   ]
  },
  {
   "cell_type": "code",
   "execution_count": 23,
   "id": "94eee377",
   "metadata": {},
   "outputs": [],
   "source": [
    "data = soft_drinks2[['retail_disc_d', 'coupon_disc_d', 'first_purchase']]"
   ]
  },
  {
   "cell_type": "code",
   "execution_count": 24,
   "id": "aabccddc",
   "metadata": {},
   "outputs": [
    {
     "name": "stdout",
     "output_type": "stream",
     "text": [
      "<class 'pandas.core.frame.DataFrame'>\n",
      "Int64Index: 117532 entries, 0 to 117531\n",
      "Data columns (total 3 columns):\n",
      " #   Column          Non-Null Count   Dtype\n",
      "---  ------          --------------   -----\n",
      " 0   retail_disc_d   117532 non-null  int64\n",
      " 1   coupon_disc_d   117532 non-null  int64\n",
      " 2   first_purchase  117532 non-null  int64\n",
      "dtypes: int64(3)\n",
      "memory usage: 3.6 MB\n"
     ]
    }
   ],
   "source": [
    "data.info()"
   ]
  },
  {
   "cell_type": "code",
   "execution_count": 25,
   "id": "b8efd8ba",
   "metadata": {},
   "outputs": [
    {
     "data": {
      "text/plain": [
       "0    72353\n",
       "1    45179\n",
       "Name: first_purchase, dtype: int64"
      ]
     },
     "execution_count": 25,
     "metadata": {},
     "output_type": "execute_result"
    }
   ],
   "source": [
    "soft_drinks2['first_purchase'].value_counts()"
   ]
  },
  {
   "cell_type": "code",
   "execution_count": 26,
   "id": "4436b711",
   "metadata": {},
   "outputs": [],
   "source": [
    "import statsmodels.formula.api as smf"
   ]
  },
  {
   "cell_type": "code",
   "execution_count": 27,
   "id": "b84828d8",
   "metadata": {},
   "outputs": [
    {
     "name": "stdout",
     "output_type": "stream",
     "text": [
      "Optimization terminated successfully.\n",
      "         Current function value: 0.666077\n",
      "         Iterations 4\n"
     ]
    }
   ],
   "source": [
    "log_reg = smf.logit(\"first_purchase ~ retail_disc_d + coupon_disc_d\", data=data).fit()"
   ]
  },
  {
   "cell_type": "code",
   "execution_count": 28,
   "id": "130d67a8",
   "metadata": {},
   "outputs": [
    {
     "name": "stdout",
     "output_type": "stream",
     "text": [
      "                           Logit Regression Results                           \n",
      "==============================================================================\n",
      "Dep. Variable:         first_purchase   No. Observations:               117532\n",
      "Model:                          Logit   Df Residuals:                   117529\n",
      "Method:                           MLE   Df Model:                            2\n",
      "Date:                Wed, 10 May 2023   Pseudo R-squ.:               0.0001488\n",
      "Time:                        10:18:31   Log-Likelihood:                -78285.\n",
      "converged:                       True   LL-Null:                       -78297.\n",
      "Covariance Type:            nonrobust   LLR p-value:                 8.730e-06\n",
      "=================================================================================\n",
      "                    coef    std err          z      P>|z|      [0.025      0.975]\n",
      "---------------------------------------------------------------------------------\n",
      "Intercept        -0.4718      0.010    -46.655      0.000      -0.492      -0.452\n",
      "retail_disc_d    -0.0040      0.013     -0.317      0.751      -0.029       0.021\n",
      "coupon_disc_d     0.2459      0.051      4.854      0.000       0.147       0.345\n",
      "=================================================================================\n"
     ]
    }
   ],
   "source": [
    "# Summary of results\n",
    "print(log_reg.summary())"
   ]
  },
  {
   "cell_type": "code",
   "execution_count": null,
   "id": "85db349d",
   "metadata": {},
   "outputs": [],
   "source": []
  }
 ],
 "metadata": {
  "kernelspec": {
   "display_name": "Python 3 (ipykernel)",
   "language": "python",
   "name": "python3"
  },
  "language_info": {
   "codemirror_mode": {
    "name": "ipython",
    "version": 3
   },
   "file_extension": ".py",
   "mimetype": "text/x-python",
   "name": "python",
   "nbconvert_exporter": "python",
   "pygments_lexer": "ipython3",
   "version": "3.10.4"
  }
 },
 "nbformat": 4,
 "nbformat_minor": 5
}
