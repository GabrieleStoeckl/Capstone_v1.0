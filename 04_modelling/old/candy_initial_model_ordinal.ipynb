{
 "cells": [
  {
   "cell_type": "code",
   "execution_count": 1,
   "id": "9bb10378-2ebe-46d4-90ca-2bc14902de99",
   "metadata": {},
   "outputs": [],
   "source": [
    "import numpy as np\n",
    "import pandas as pd\n",
    "import matplotlib.pyplot as plt\n",
    "import seaborn as sns\n",
    "sns.set()"
   ]
  },
  {
   "cell_type": "markdown",
   "id": "a8997f0e-5353-42b0-8902-9153857fbc40",
   "metadata": {},
   "source": [
    "##Load data and remove irrelevant variables"
   ]
  },
  {
   "cell_type": "code",
   "execution_count": 2,
   "id": "2a65ec05-6f9f-4f54-ba08-b09ad1563736",
   "metadata": {},
   "outputs": [
    {
     "name": "stdout",
     "output_type": "stream",
     "text": [
      "<class 'pandas.core.frame.DataFrame'>\n",
      "RangeIndex: 15207 entries, 0 to 15206\n",
      "Data columns (total 48 columns):\n",
      " #   Column                     Non-Null Count  Dtype  \n",
      "---  ------                     --------------  -----  \n",
      " 0   Unnamed: 0                 15207 non-null  int64  \n",
      " 1   first_purchase             15207 non-null  bool   \n",
      " 2   shelf_price                15207 non-null  float64\n",
      " 3   pct_disc                   15207 non-null  float64\n",
      " 4   pct_retail_disc            15207 non-null  float64\n",
      " 5   pct_coupon_disc            15207 non-null  float64\n",
      " 6   display_1                  15207 non-null  int64  \n",
      " 7   display_2                  15207 non-null  int64  \n",
      " 8   display_3                  15207 non-null  int64  \n",
      " 9   display_4                  15207 non-null  int64  \n",
      " 10  display_5                  15207 non-null  int64  \n",
      " 11  display_6                  15207 non-null  int64  \n",
      " 12  display_7                  15207 non-null  int64  \n",
      " 13  display_9                  15207 non-null  int64  \n",
      " 14  display_A                  15207 non-null  int64  \n",
      " 15  mailer_A                   15207 non-null  int64  \n",
      " 16  mailer_C                   15207 non-null  int64  \n",
      " 17  mailer_D                   15207 non-null  int64  \n",
      " 18  mailer_F                   15207 non-null  int64  \n",
      " 19  mailer_H                   15207 non-null  int64  \n",
      " 20  mailer_J                   15207 non-null  int64  \n",
      " 21  mailer_L                   15207 non-null  int64  \n",
      " 22  marital_status_A           15207 non-null  int64  \n",
      " 23  marital_status_B           15207 non-null  int64  \n",
      " 24  homeowner_Homeowner        15207 non-null  int64  \n",
      " 25  homeowner_Probable Owner   15207 non-null  int64  \n",
      " 26  homeowner_Probable Renter  15207 non-null  int64  \n",
      " 27  homeowner_Renter           15207 non-null  int64  \n",
      " 28  hhcomp_1 Adult Kids        15207 non-null  int64  \n",
      " 29  hhcomp_2 Adults Kids       15207 non-null  int64  \n",
      " 30  hhcomp_2 Adults No Kids    15207 non-null  int64  \n",
      " 31  hhcomp_Single Female       15207 non-null  int64  \n",
      " 32  hhcomp_Single Male         15207 non-null  int64  \n",
      " 33  kid_category_1             15207 non-null  int64  \n",
      " 34  kid_category_2             15207 non-null  int64  \n",
      " 35  kid_category_3+            15207 non-null  int64  \n",
      " 36  kid_category_None/Unknown  15207 non-null  int64  \n",
      " 37  age_ordinal                15207 non-null  float64\n",
      " 38  income_ordinal             15207 non-null  float64\n",
      " 39  hhsize_ordinal             15207 non-null  float64\n",
      " 40  campaign_8.0               15207 non-null  int64  \n",
      " 41  campaign_13.0              15207 non-null  int64  \n",
      " 42  campaign_18.0              15207 non-null  int64  \n",
      " 43  campaign_25.0              15207 non-null  int64  \n",
      " 44  campaign_26.0              15207 non-null  int64  \n",
      " 45  campaign_30.0              15207 non-null  int64  \n",
      " 46  description_TypeA          15207 non-null  int64  \n",
      " 47  description_TypeB          15207 non-null  int64  \n",
      "dtypes: bool(1), float64(7), int64(40)\n",
      "memory usage: 5.5 MB\n"
     ]
    }
   ],
   "source": [
    "data = pd.read_csv(\"../02_data_preparation/candy_w_ordinal_data.csv\")\n",
    "data.info()"
   ]
  },
  {
   "cell_type": "code",
   "execution_count": 3,
   "id": "63c26e8c-3bf9-433a-8202-7b08bc9f903f",
   "metadata": {},
   "outputs": [],
   "source": [
    "data.drop(labels=[\"Unnamed: 0\", \"mailer_C\", \"mailer_F\", \"mailer_L\", \n",
    "                  \"campaign_25.0\", \"campaign_26.0\", \"campaign_30.0\", \"description_TypeB\"],\n",
    "          axis = 1, inplace = True)"
   ]
  },
  {
   "cell_type": "code",
   "execution_count": 4,
   "id": "77bbb9f2-9896-4b55-be4c-5c7f8edbd91b",
   "metadata": {},
   "outputs": [
    {
     "data": {
      "text/html": [
       "<div>\n",
       "<style scoped>\n",
       "    .dataframe tbody tr th:only-of-type {\n",
       "        vertical-align: middle;\n",
       "    }\n",
       "\n",
       "    .dataframe tbody tr th {\n",
       "        vertical-align: top;\n",
       "    }\n",
       "\n",
       "    .dataframe thead th {\n",
       "        text-align: right;\n",
       "    }\n",
       "</style>\n",
       "<table border=\"1\" class=\"dataframe\">\n",
       "  <thead>\n",
       "    <tr style=\"text-align: right;\">\n",
       "      <th></th>\n",
       "      <th>first_purchase</th>\n",
       "      <th>shelf_price</th>\n",
       "      <th>pct_disc</th>\n",
       "      <th>pct_retail_disc</th>\n",
       "      <th>pct_coupon_disc</th>\n",
       "      <th>display_1</th>\n",
       "      <th>display_2</th>\n",
       "      <th>display_3</th>\n",
       "      <th>display_4</th>\n",
       "      <th>display_5</th>\n",
       "      <th>display_6</th>\n",
       "      <th>display_7</th>\n",
       "      <th>display_9</th>\n",
       "      <th>display_A</th>\n",
       "      <th>mailer_A</th>\n",
       "      <th>mailer_D</th>\n",
       "      <th>mailer_H</th>\n",
       "      <th>mailer_J</th>\n",
       "      <th>marital_status_A</th>\n",
       "      <th>marital_status_B</th>\n",
       "      <th>homeowner_Homeowner</th>\n",
       "      <th>homeowner_Probable Owner</th>\n",
       "      <th>homeowner_Probable Renter</th>\n",
       "      <th>homeowner_Renter</th>\n",
       "      <th>hhcomp_1 Adult Kids</th>\n",
       "      <th>hhcomp_2 Adults Kids</th>\n",
       "      <th>hhcomp_2 Adults No Kids</th>\n",
       "      <th>hhcomp_Single Female</th>\n",
       "      <th>hhcomp_Single Male</th>\n",
       "      <th>kid_category_1</th>\n",
       "      <th>kid_category_2</th>\n",
       "      <th>kid_category_3+</th>\n",
       "      <th>kid_category_None/Unknown</th>\n",
       "      <th>age_ordinal</th>\n",
       "      <th>income_ordinal</th>\n",
       "      <th>hhsize_ordinal</th>\n",
       "      <th>campaign_8.0</th>\n",
       "      <th>campaign_13.0</th>\n",
       "      <th>campaign_18.0</th>\n",
       "      <th>description_TypeA</th>\n",
       "    </tr>\n",
       "  </thead>\n",
       "  <tbody>\n",
       "    <tr>\n",
       "      <th>count</th>\n",
       "      <td>15207</td>\n",
       "      <td>15207.000000</td>\n",
       "      <td>15207.000000</td>\n",
       "      <td>15207.000000</td>\n",
       "      <td>15207.000000</td>\n",
       "      <td>15207.000000</td>\n",
       "      <td>15207.000000</td>\n",
       "      <td>15207.000000</td>\n",
       "      <td>15207.000000</td>\n",
       "      <td>15207.000000</td>\n",
       "      <td>15207.000000</td>\n",
       "      <td>15207.000000</td>\n",
       "      <td>15207.000000</td>\n",
       "      <td>15207.000000</td>\n",
       "      <td>15207.000000</td>\n",
       "      <td>15207.000000</td>\n",
       "      <td>15207.000000</td>\n",
       "      <td>15207.000000</td>\n",
       "      <td>15207.000000</td>\n",
       "      <td>15207.000000</td>\n",
       "      <td>15207.000000</td>\n",
       "      <td>15207.000000</td>\n",
       "      <td>15207.000000</td>\n",
       "      <td>15207.000000</td>\n",
       "      <td>15207.000000</td>\n",
       "      <td>15207.000000</td>\n",
       "      <td>15207.000000</td>\n",
       "      <td>15207.000000</td>\n",
       "      <td>15207.000000</td>\n",
       "      <td>15207.000000</td>\n",
       "      <td>15207.000000</td>\n",
       "      <td>15207.000000</td>\n",
       "      <td>15207.000000</td>\n",
       "      <td>15207.000000</td>\n",
       "      <td>15207.000000</td>\n",
       "      <td>15207.000000</td>\n",
       "      <td>15207.000000</td>\n",
       "      <td>15207.000000</td>\n",
       "      <td>15207.000000</td>\n",
       "      <td>15207.000000</td>\n",
       "    </tr>\n",
       "    <tr>\n",
       "      <th>unique</th>\n",
       "      <td>2</td>\n",
       "      <td>NaN</td>\n",
       "      <td>NaN</td>\n",
       "      <td>NaN</td>\n",
       "      <td>NaN</td>\n",
       "      <td>NaN</td>\n",
       "      <td>NaN</td>\n",
       "      <td>NaN</td>\n",
       "      <td>NaN</td>\n",
       "      <td>NaN</td>\n",
       "      <td>NaN</td>\n",
       "      <td>NaN</td>\n",
       "      <td>NaN</td>\n",
       "      <td>NaN</td>\n",
       "      <td>NaN</td>\n",
       "      <td>NaN</td>\n",
       "      <td>NaN</td>\n",
       "      <td>NaN</td>\n",
       "      <td>NaN</td>\n",
       "      <td>NaN</td>\n",
       "      <td>NaN</td>\n",
       "      <td>NaN</td>\n",
       "      <td>NaN</td>\n",
       "      <td>NaN</td>\n",
       "      <td>NaN</td>\n",
       "      <td>NaN</td>\n",
       "      <td>NaN</td>\n",
       "      <td>NaN</td>\n",
       "      <td>NaN</td>\n",
       "      <td>NaN</td>\n",
       "      <td>NaN</td>\n",
       "      <td>NaN</td>\n",
       "      <td>NaN</td>\n",
       "      <td>NaN</td>\n",
       "      <td>NaN</td>\n",
       "      <td>NaN</td>\n",
       "      <td>NaN</td>\n",
       "      <td>NaN</td>\n",
       "      <td>NaN</td>\n",
       "      <td>NaN</td>\n",
       "    </tr>\n",
       "    <tr>\n",
       "      <th>top</th>\n",
       "      <td>True</td>\n",
       "      <td>NaN</td>\n",
       "      <td>NaN</td>\n",
       "      <td>NaN</td>\n",
       "      <td>NaN</td>\n",
       "      <td>NaN</td>\n",
       "      <td>NaN</td>\n",
       "      <td>NaN</td>\n",
       "      <td>NaN</td>\n",
       "      <td>NaN</td>\n",
       "      <td>NaN</td>\n",
       "      <td>NaN</td>\n",
       "      <td>NaN</td>\n",
       "      <td>NaN</td>\n",
       "      <td>NaN</td>\n",
       "      <td>NaN</td>\n",
       "      <td>NaN</td>\n",
       "      <td>NaN</td>\n",
       "      <td>NaN</td>\n",
       "      <td>NaN</td>\n",
       "      <td>NaN</td>\n",
       "      <td>NaN</td>\n",
       "      <td>NaN</td>\n",
       "      <td>NaN</td>\n",
       "      <td>NaN</td>\n",
       "      <td>NaN</td>\n",
       "      <td>NaN</td>\n",
       "      <td>NaN</td>\n",
       "      <td>NaN</td>\n",
       "      <td>NaN</td>\n",
       "      <td>NaN</td>\n",
       "      <td>NaN</td>\n",
       "      <td>NaN</td>\n",
       "      <td>NaN</td>\n",
       "      <td>NaN</td>\n",
       "      <td>NaN</td>\n",
       "      <td>NaN</td>\n",
       "      <td>NaN</td>\n",
       "      <td>NaN</td>\n",
       "      <td>NaN</td>\n",
       "    </tr>\n",
       "    <tr>\n",
       "      <th>freq</th>\n",
       "      <td>10846</td>\n",
       "      <td>NaN</td>\n",
       "      <td>NaN</td>\n",
       "      <td>NaN</td>\n",
       "      <td>NaN</td>\n",
       "      <td>NaN</td>\n",
       "      <td>NaN</td>\n",
       "      <td>NaN</td>\n",
       "      <td>NaN</td>\n",
       "      <td>NaN</td>\n",
       "      <td>NaN</td>\n",
       "      <td>NaN</td>\n",
       "      <td>NaN</td>\n",
       "      <td>NaN</td>\n",
       "      <td>NaN</td>\n",
       "      <td>NaN</td>\n",
       "      <td>NaN</td>\n",
       "      <td>NaN</td>\n",
       "      <td>NaN</td>\n",
       "      <td>NaN</td>\n",
       "      <td>NaN</td>\n",
       "      <td>NaN</td>\n",
       "      <td>NaN</td>\n",
       "      <td>NaN</td>\n",
       "      <td>NaN</td>\n",
       "      <td>NaN</td>\n",
       "      <td>NaN</td>\n",
       "      <td>NaN</td>\n",
       "      <td>NaN</td>\n",
       "      <td>NaN</td>\n",
       "      <td>NaN</td>\n",
       "      <td>NaN</td>\n",
       "      <td>NaN</td>\n",
       "      <td>NaN</td>\n",
       "      <td>NaN</td>\n",
       "      <td>NaN</td>\n",
       "      <td>NaN</td>\n",
       "      <td>NaN</td>\n",
       "      <td>NaN</td>\n",
       "      <td>NaN</td>\n",
       "    </tr>\n",
       "    <tr>\n",
       "      <th>mean</th>\n",
       "      <td>NaN</td>\n",
       "      <td>2.178575</td>\n",
       "      <td>0.130392</td>\n",
       "      <td>0.128007</td>\n",
       "      <td>0.002385</td>\n",
       "      <td>0.069244</td>\n",
       "      <td>0.015256</td>\n",
       "      <td>0.017821</td>\n",
       "      <td>0.005918</td>\n",
       "      <td>0.023147</td>\n",
       "      <td>0.005721</td>\n",
       "      <td>0.034326</td>\n",
       "      <td>0.017032</td>\n",
       "      <td>0.006247</td>\n",
       "      <td>0.111659</td>\n",
       "      <td>0.007760</td>\n",
       "      <td>0.021635</td>\n",
       "      <td>0.003222</td>\n",
       "      <td>0.437693</td>\n",
       "      <td>0.138160</td>\n",
       "      <td>0.636220</td>\n",
       "      <td>0.017163</td>\n",
       "      <td>0.011442</td>\n",
       "      <td>0.067732</td>\n",
       "      <td>0.066811</td>\n",
       "      <td>0.292037</td>\n",
       "      <td>0.288157</td>\n",
       "      <td>0.156638</td>\n",
       "      <td>0.093773</td>\n",
       "      <td>0.146709</td>\n",
       "      <td>0.104886</td>\n",
       "      <td>0.113961</td>\n",
       "      <td>0.634445</td>\n",
       "      <td>3.469981</td>\n",
       "      <td>68.287729</td>\n",
       "      <td>2.346419</td>\n",
       "      <td>0.001775</td>\n",
       "      <td>0.001907</td>\n",
       "      <td>0.002959</td>\n",
       "      <td>0.007102</td>\n",
       "    </tr>\n",
       "    <tr>\n",
       "      <th>std</th>\n",
       "      <td>NaN</td>\n",
       "      <td>1.688843</td>\n",
       "      <td>0.179378</td>\n",
       "      <td>0.177579</td>\n",
       "      <td>0.030190</td>\n",
       "      <td>0.253878</td>\n",
       "      <td>0.122574</td>\n",
       "      <td>0.132304</td>\n",
       "      <td>0.076705</td>\n",
       "      <td>0.150376</td>\n",
       "      <td>0.075423</td>\n",
       "      <td>0.182072</td>\n",
       "      <td>0.129393</td>\n",
       "      <td>0.078794</td>\n",
       "      <td>0.314957</td>\n",
       "      <td>0.087749</td>\n",
       "      <td>0.145493</td>\n",
       "      <td>0.056675</td>\n",
       "      <td>0.496119</td>\n",
       "      <td>0.345079</td>\n",
       "      <td>0.481102</td>\n",
       "      <td>0.129883</td>\n",
       "      <td>0.106358</td>\n",
       "      <td>0.251294</td>\n",
       "      <td>0.249703</td>\n",
       "      <td>0.454714</td>\n",
       "      <td>0.452919</td>\n",
       "      <td>0.363471</td>\n",
       "      <td>0.291522</td>\n",
       "      <td>0.353827</td>\n",
       "      <td>0.306416</td>\n",
       "      <td>0.317774</td>\n",
       "      <td>0.481601</td>\n",
       "      <td>1.165680</td>\n",
       "      <td>51.554096</td>\n",
       "      <td>1.280245</td>\n",
       "      <td>0.042101</td>\n",
       "      <td>0.043629</td>\n",
       "      <td>0.054319</td>\n",
       "      <td>0.083976</td>\n",
       "    </tr>\n",
       "    <tr>\n",
       "      <th>min</th>\n",
       "      <td>NaN</td>\n",
       "      <td>0.100000</td>\n",
       "      <td>0.000000</td>\n",
       "      <td>-0.000000</td>\n",
       "      <td>-0.000000</td>\n",
       "      <td>0.000000</td>\n",
       "      <td>0.000000</td>\n",
       "      <td>0.000000</td>\n",
       "      <td>0.000000</td>\n",
       "      <td>0.000000</td>\n",
       "      <td>0.000000</td>\n",
       "      <td>0.000000</td>\n",
       "      <td>0.000000</td>\n",
       "      <td>0.000000</td>\n",
       "      <td>0.000000</td>\n",
       "      <td>0.000000</td>\n",
       "      <td>0.000000</td>\n",
       "      <td>0.000000</td>\n",
       "      <td>0.000000</td>\n",
       "      <td>0.000000</td>\n",
       "      <td>0.000000</td>\n",
       "      <td>0.000000</td>\n",
       "      <td>0.000000</td>\n",
       "      <td>0.000000</td>\n",
       "      <td>0.000000</td>\n",
       "      <td>0.000000</td>\n",
       "      <td>0.000000</td>\n",
       "      <td>0.000000</td>\n",
       "      <td>0.000000</td>\n",
       "      <td>0.000000</td>\n",
       "      <td>0.000000</td>\n",
       "      <td>0.000000</td>\n",
       "      <td>0.000000</td>\n",
       "      <td>1.000000</td>\n",
       "      <td>10.000000</td>\n",
       "      <td>1.000000</td>\n",
       "      <td>0.000000</td>\n",
       "      <td>0.000000</td>\n",
       "      <td>0.000000</td>\n",
       "      <td>0.000000</td>\n",
       "    </tr>\n",
       "    <tr>\n",
       "      <th>25%</th>\n",
       "      <td>NaN</td>\n",
       "      <td>1.390000</td>\n",
       "      <td>0.000000</td>\n",
       "      <td>-0.000000</td>\n",
       "      <td>-0.000000</td>\n",
       "      <td>0.000000</td>\n",
       "      <td>0.000000</td>\n",
       "      <td>0.000000</td>\n",
       "      <td>0.000000</td>\n",
       "      <td>0.000000</td>\n",
       "      <td>0.000000</td>\n",
       "      <td>0.000000</td>\n",
       "      <td>0.000000</td>\n",
       "      <td>0.000000</td>\n",
       "      <td>0.000000</td>\n",
       "      <td>0.000000</td>\n",
       "      <td>0.000000</td>\n",
       "      <td>0.000000</td>\n",
       "      <td>0.000000</td>\n",
       "      <td>0.000000</td>\n",
       "      <td>0.000000</td>\n",
       "      <td>0.000000</td>\n",
       "      <td>0.000000</td>\n",
       "      <td>0.000000</td>\n",
       "      <td>0.000000</td>\n",
       "      <td>0.000000</td>\n",
       "      <td>0.000000</td>\n",
       "      <td>0.000000</td>\n",
       "      <td>0.000000</td>\n",
       "      <td>0.000000</td>\n",
       "      <td>0.000000</td>\n",
       "      <td>0.000000</td>\n",
       "      <td>0.000000</td>\n",
       "      <td>3.000000</td>\n",
       "      <td>29.500000</td>\n",
       "      <td>1.000000</td>\n",
       "      <td>0.000000</td>\n",
       "      <td>0.000000</td>\n",
       "      <td>0.000000</td>\n",
       "      <td>0.000000</td>\n",
       "    </tr>\n",
       "    <tr>\n",
       "      <th>50%</th>\n",
       "      <td>NaN</td>\n",
       "      <td>1.790000</td>\n",
       "      <td>0.000000</td>\n",
       "      <td>0.000000</td>\n",
       "      <td>0.000000</td>\n",
       "      <td>0.000000</td>\n",
       "      <td>0.000000</td>\n",
       "      <td>0.000000</td>\n",
       "      <td>0.000000</td>\n",
       "      <td>0.000000</td>\n",
       "      <td>0.000000</td>\n",
       "      <td>0.000000</td>\n",
       "      <td>0.000000</td>\n",
       "      <td>0.000000</td>\n",
       "      <td>0.000000</td>\n",
       "      <td>0.000000</td>\n",
       "      <td>0.000000</td>\n",
       "      <td>0.000000</td>\n",
       "      <td>0.000000</td>\n",
       "      <td>0.000000</td>\n",
       "      <td>1.000000</td>\n",
       "      <td>0.000000</td>\n",
       "      <td>0.000000</td>\n",
       "      <td>0.000000</td>\n",
       "      <td>0.000000</td>\n",
       "      <td>0.000000</td>\n",
       "      <td>0.000000</td>\n",
       "      <td>0.000000</td>\n",
       "      <td>0.000000</td>\n",
       "      <td>0.000000</td>\n",
       "      <td>0.000000</td>\n",
       "      <td>0.000000</td>\n",
       "      <td>1.000000</td>\n",
       "      <td>4.000000</td>\n",
       "      <td>62.000000</td>\n",
       "      <td>2.000000</td>\n",
       "      <td>0.000000</td>\n",
       "      <td>0.000000</td>\n",
       "      <td>0.000000</td>\n",
       "      <td>0.000000</td>\n",
       "    </tr>\n",
       "    <tr>\n",
       "      <th>75%</th>\n",
       "      <td>NaN</td>\n",
       "      <td>2.790000</td>\n",
       "      <td>0.326633</td>\n",
       "      <td>0.284345</td>\n",
       "      <td>-0.000000</td>\n",
       "      <td>0.000000</td>\n",
       "      <td>0.000000</td>\n",
       "      <td>0.000000</td>\n",
       "      <td>0.000000</td>\n",
       "      <td>0.000000</td>\n",
       "      <td>0.000000</td>\n",
       "      <td>0.000000</td>\n",
       "      <td>0.000000</td>\n",
       "      <td>0.000000</td>\n",
       "      <td>0.000000</td>\n",
       "      <td>0.000000</td>\n",
       "      <td>0.000000</td>\n",
       "      <td>0.000000</td>\n",
       "      <td>1.000000</td>\n",
       "      <td>0.000000</td>\n",
       "      <td>1.000000</td>\n",
       "      <td>0.000000</td>\n",
       "      <td>0.000000</td>\n",
       "      <td>0.000000</td>\n",
       "      <td>0.000000</td>\n",
       "      <td>1.000000</td>\n",
       "      <td>1.000000</td>\n",
       "      <td>0.000000</td>\n",
       "      <td>0.000000</td>\n",
       "      <td>0.000000</td>\n",
       "      <td>0.000000</td>\n",
       "      <td>0.000000</td>\n",
       "      <td>1.000000</td>\n",
       "      <td>4.000000</td>\n",
       "      <td>87.000000</td>\n",
       "      <td>3.000000</td>\n",
       "      <td>0.000000</td>\n",
       "      <td>0.000000</td>\n",
       "      <td>0.000000</td>\n",
       "      <td>0.000000</td>\n",
       "    </tr>\n",
       "    <tr>\n",
       "      <th>max</th>\n",
       "      <td>NaN</td>\n",
       "      <td>57.570000</td>\n",
       "      <td>0.930796</td>\n",
       "      <td>0.930796</td>\n",
       "      <td>0.716846</td>\n",
       "      <td>1.000000</td>\n",
       "      <td>1.000000</td>\n",
       "      <td>1.000000</td>\n",
       "      <td>1.000000</td>\n",
       "      <td>1.000000</td>\n",
       "      <td>1.000000</td>\n",
       "      <td>1.000000</td>\n",
       "      <td>1.000000</td>\n",
       "      <td>1.000000</td>\n",
       "      <td>1.000000</td>\n",
       "      <td>1.000000</td>\n",
       "      <td>1.000000</td>\n",
       "      <td>1.000000</td>\n",
       "      <td>1.000000</td>\n",
       "      <td>1.000000</td>\n",
       "      <td>1.000000</td>\n",
       "      <td>1.000000</td>\n",
       "      <td>1.000000</td>\n",
       "      <td>1.000000</td>\n",
       "      <td>1.000000</td>\n",
       "      <td>1.000000</td>\n",
       "      <td>1.000000</td>\n",
       "      <td>1.000000</td>\n",
       "      <td>1.000000</td>\n",
       "      <td>1.000000</td>\n",
       "      <td>1.000000</td>\n",
       "      <td>1.000000</td>\n",
       "      <td>1.000000</td>\n",
       "      <td>6.000000</td>\n",
       "      <td>250.000000</td>\n",
       "      <td>5.000000</td>\n",
       "      <td>1.000000</td>\n",
       "      <td>1.000000</td>\n",
       "      <td>1.000000</td>\n",
       "      <td>1.000000</td>\n",
       "    </tr>\n",
       "  </tbody>\n",
       "</table>\n",
       "</div>"
      ],
      "text/plain": [
       "       first_purchase   shelf_price      pct_disc  pct_retail_disc  \\\n",
       "count           15207  15207.000000  15207.000000     15207.000000   \n",
       "unique              2           NaN           NaN              NaN   \n",
       "top              True           NaN           NaN              NaN   \n",
       "freq            10846           NaN           NaN              NaN   \n",
       "mean              NaN      2.178575      0.130392         0.128007   \n",
       "std               NaN      1.688843      0.179378         0.177579   \n",
       "min               NaN      0.100000      0.000000        -0.000000   \n",
       "25%               NaN      1.390000      0.000000        -0.000000   \n",
       "50%               NaN      1.790000      0.000000         0.000000   \n",
       "75%               NaN      2.790000      0.326633         0.284345   \n",
       "max               NaN     57.570000      0.930796         0.930796   \n",
       "\n",
       "        pct_coupon_disc     display_1     display_2     display_3  \\\n",
       "count      15207.000000  15207.000000  15207.000000  15207.000000   \n",
       "unique              NaN           NaN           NaN           NaN   \n",
       "top                 NaN           NaN           NaN           NaN   \n",
       "freq                NaN           NaN           NaN           NaN   \n",
       "mean           0.002385      0.069244      0.015256      0.017821   \n",
       "std            0.030190      0.253878      0.122574      0.132304   \n",
       "min           -0.000000      0.000000      0.000000      0.000000   \n",
       "25%           -0.000000      0.000000      0.000000      0.000000   \n",
       "50%            0.000000      0.000000      0.000000      0.000000   \n",
       "75%           -0.000000      0.000000      0.000000      0.000000   \n",
       "max            0.716846      1.000000      1.000000      1.000000   \n",
       "\n",
       "           display_4     display_5     display_6     display_7     display_9  \\\n",
       "count   15207.000000  15207.000000  15207.000000  15207.000000  15207.000000   \n",
       "unique           NaN           NaN           NaN           NaN           NaN   \n",
       "top              NaN           NaN           NaN           NaN           NaN   \n",
       "freq             NaN           NaN           NaN           NaN           NaN   \n",
       "mean        0.005918      0.023147      0.005721      0.034326      0.017032   \n",
       "std         0.076705      0.150376      0.075423      0.182072      0.129393   \n",
       "min         0.000000      0.000000      0.000000      0.000000      0.000000   \n",
       "25%         0.000000      0.000000      0.000000      0.000000      0.000000   \n",
       "50%         0.000000      0.000000      0.000000      0.000000      0.000000   \n",
       "75%         0.000000      0.000000      0.000000      0.000000      0.000000   \n",
       "max         1.000000      1.000000      1.000000      1.000000      1.000000   \n",
       "\n",
       "           display_A      mailer_A      mailer_D      mailer_H      mailer_J  \\\n",
       "count   15207.000000  15207.000000  15207.000000  15207.000000  15207.000000   \n",
       "unique           NaN           NaN           NaN           NaN           NaN   \n",
       "top              NaN           NaN           NaN           NaN           NaN   \n",
       "freq             NaN           NaN           NaN           NaN           NaN   \n",
       "mean        0.006247      0.111659      0.007760      0.021635      0.003222   \n",
       "std         0.078794      0.314957      0.087749      0.145493      0.056675   \n",
       "min         0.000000      0.000000      0.000000      0.000000      0.000000   \n",
       "25%         0.000000      0.000000      0.000000      0.000000      0.000000   \n",
       "50%         0.000000      0.000000      0.000000      0.000000      0.000000   \n",
       "75%         0.000000      0.000000      0.000000      0.000000      0.000000   \n",
       "max         1.000000      1.000000      1.000000      1.000000      1.000000   \n",
       "\n",
       "        marital_status_A  marital_status_B  homeowner_Homeowner  \\\n",
       "count       15207.000000      15207.000000         15207.000000   \n",
       "unique               NaN               NaN                  NaN   \n",
       "top                  NaN               NaN                  NaN   \n",
       "freq                 NaN               NaN                  NaN   \n",
       "mean            0.437693          0.138160             0.636220   \n",
       "std             0.496119          0.345079             0.481102   \n",
       "min             0.000000          0.000000             0.000000   \n",
       "25%             0.000000          0.000000             0.000000   \n",
       "50%             0.000000          0.000000             1.000000   \n",
       "75%             1.000000          0.000000             1.000000   \n",
       "max             1.000000          1.000000             1.000000   \n",
       "\n",
       "        homeowner_Probable Owner  homeowner_Probable Renter  homeowner_Renter  \\\n",
       "count               15207.000000               15207.000000      15207.000000   \n",
       "unique                       NaN                        NaN               NaN   \n",
       "top                          NaN                        NaN               NaN   \n",
       "freq                         NaN                        NaN               NaN   \n",
       "mean                    0.017163                   0.011442          0.067732   \n",
       "std                     0.129883                   0.106358          0.251294   \n",
       "min                     0.000000                   0.000000          0.000000   \n",
       "25%                     0.000000                   0.000000          0.000000   \n",
       "50%                     0.000000                   0.000000          0.000000   \n",
       "75%                     0.000000                   0.000000          0.000000   \n",
       "max                     1.000000                   1.000000          1.000000   \n",
       "\n",
       "        hhcomp_1 Adult Kids  hhcomp_2 Adults Kids  hhcomp_2 Adults No Kids  \\\n",
       "count          15207.000000          15207.000000             15207.000000   \n",
       "unique                  NaN                   NaN                      NaN   \n",
       "top                     NaN                   NaN                      NaN   \n",
       "freq                    NaN                   NaN                      NaN   \n",
       "mean               0.066811              0.292037                 0.288157   \n",
       "std                0.249703              0.454714                 0.452919   \n",
       "min                0.000000              0.000000                 0.000000   \n",
       "25%                0.000000              0.000000                 0.000000   \n",
       "50%                0.000000              0.000000                 0.000000   \n",
       "75%                0.000000              1.000000                 1.000000   \n",
       "max                1.000000              1.000000                 1.000000   \n",
       "\n",
       "        hhcomp_Single Female  hhcomp_Single Male  kid_category_1  \\\n",
       "count           15207.000000        15207.000000    15207.000000   \n",
       "unique                   NaN                 NaN             NaN   \n",
       "top                      NaN                 NaN             NaN   \n",
       "freq                     NaN                 NaN             NaN   \n",
       "mean                0.156638            0.093773        0.146709   \n",
       "std                 0.363471            0.291522        0.353827   \n",
       "min                 0.000000            0.000000        0.000000   \n",
       "25%                 0.000000            0.000000        0.000000   \n",
       "50%                 0.000000            0.000000        0.000000   \n",
       "75%                 0.000000            0.000000        0.000000   \n",
       "max                 1.000000            1.000000        1.000000   \n",
       "\n",
       "        kid_category_2  kid_category_3+  kid_category_None/Unknown  \\\n",
       "count     15207.000000     15207.000000               15207.000000   \n",
       "unique             NaN              NaN                        NaN   \n",
       "top                NaN              NaN                        NaN   \n",
       "freq               NaN              NaN                        NaN   \n",
       "mean          0.104886         0.113961                   0.634445   \n",
       "std           0.306416         0.317774                   0.481601   \n",
       "min           0.000000         0.000000                   0.000000   \n",
       "25%           0.000000         0.000000                   0.000000   \n",
       "50%           0.000000         0.000000                   1.000000   \n",
       "75%           0.000000         0.000000                   1.000000   \n",
       "max           1.000000         1.000000                   1.000000   \n",
       "\n",
       "         age_ordinal  income_ordinal  hhsize_ordinal  campaign_8.0  \\\n",
       "count   15207.000000    15207.000000    15207.000000  15207.000000   \n",
       "unique           NaN             NaN             NaN           NaN   \n",
       "top              NaN             NaN             NaN           NaN   \n",
       "freq             NaN             NaN             NaN           NaN   \n",
       "mean        3.469981       68.287729        2.346419      0.001775   \n",
       "std         1.165680       51.554096        1.280245      0.042101   \n",
       "min         1.000000       10.000000        1.000000      0.000000   \n",
       "25%         3.000000       29.500000        1.000000      0.000000   \n",
       "50%         4.000000       62.000000        2.000000      0.000000   \n",
       "75%         4.000000       87.000000        3.000000      0.000000   \n",
       "max         6.000000      250.000000        5.000000      1.000000   \n",
       "\n",
       "        campaign_13.0  campaign_18.0  description_TypeA  \n",
       "count    15207.000000   15207.000000       15207.000000  \n",
       "unique            NaN            NaN                NaN  \n",
       "top               NaN            NaN                NaN  \n",
       "freq              NaN            NaN                NaN  \n",
       "mean         0.001907       0.002959           0.007102  \n",
       "std          0.043629       0.054319           0.083976  \n",
       "min          0.000000       0.000000           0.000000  \n",
       "25%          0.000000       0.000000           0.000000  \n",
       "50%          0.000000       0.000000           0.000000  \n",
       "75%          0.000000       0.000000           0.000000  \n",
       "max          1.000000       1.000000           1.000000  "
      ]
     },
     "execution_count": 4,
     "metadata": {},
     "output_type": "execute_result"
    }
   ],
   "source": [
    "pd.set_option(\"display.max_columns\", None)\n",
    "data.describe(include = \"all\")"
   ]
  },
  {
   "cell_type": "markdown",
   "id": "08ee889a-f8af-4a64-8594-c94348f8a66c",
   "metadata": {},
   "source": [
    "##Dummy model as benchmark"
   ]
  },
  {
   "cell_type": "code",
   "execution_count": 5,
   "id": "bb4a474a-9d43-4630-a44c-f9034c2365a5",
   "metadata": {},
   "outputs": [],
   "source": [
    "from sklearn.tree import DecisionTreeClassifier\n",
    "from sklearn.dummy import DummyClassifier \n",
    "\n",
    "from sklearn.model_selection import GridSearchCV, RandomizedSearchCV, train_test_split\n",
    "from sklearn.model_selection import cross_val_score\n",
    "from sklearn.model_selection import StratifiedShuffleSplit, StratifiedKFold\n",
    "from sklearn.model_selection import learning_curve, validation_curve\n",
    "\n",
    "from sklearn.metrics import f1_score, precision_score, recall_score, accuracy_score"
   ]
  },
  {
   "cell_type": "code",
   "execution_count": 6,
   "id": "633e903f-07e8-4f6a-9abd-a60bd2f95429",
   "metadata": {},
   "outputs": [],
   "source": [
    "X = data.drop(\"first_purchase\", axis = 1)\n",
    "y = data[\"first_purchase\"]"
   ]
  },
  {
   "cell_type": "code",
   "execution_count": 7,
   "id": "5a8c7507-0097-4059-94d7-2454895a34a7",
   "metadata": {},
   "outputs": [],
   "source": [
    "X_train, X_test, y_train, y_test = train_test_split(X, y, train_size=.8, stratify = y)"
   ]
  },
  {
   "cell_type": "markdown",
   "id": "d4a2e2bc-7ba6-4902-a752-ec8f7b0e9184",
   "metadata": {},
   "source": [
    "#Define and fit two strategies for dummy model"
   ]
  },
  {
   "cell_type": "code",
   "execution_count": 8,
   "id": "92c26647-555a-4877-b087-41ef961ca34a",
   "metadata": {},
   "outputs": [],
   "source": [
    "dummy_frequent = DummyClassifier(strategy = \"most_frequent\")\n",
    "dummy_stratified = DummyClassifier(strategy = \"stratified\")"
   ]
  },
  {
   "cell_type": "code",
   "execution_count": 9,
   "id": "b138ab30-ad6f-4bb5-9c1b-e711a79b84e6",
   "metadata": {},
   "outputs": [
    {
     "data": {
      "text/plain": [
       "DummyClassifier(strategy='stratified')"
      ]
     },
     "execution_count": 9,
     "metadata": {},
     "output_type": "execute_result"
    }
   ],
   "source": [
    "dummy_frequent.fit(X_train, y_train)\n",
    "dummy_stratified.fit(X_train, y_train)"
   ]
  },
  {
   "cell_type": "markdown",
   "id": "8efe454f-e4e4-47f4-a88d-2019e75e5449",
   "metadata": {},
   "source": [
    "#Calculate metrics for both dummy models"
   ]
  },
  {
   "cell_type": "code",
   "execution_count": 10,
   "id": "d225c892-527d-4aae-81f2-bf85754afafe",
   "metadata": {},
   "outputs": [],
   "source": [
    "y_pred_frq = dummy_frequent.predict(X_test)\n",
    "y_pred_str = dummy_stratified.predict(X_test)"
   ]
  },
  {
   "cell_type": "code",
   "execution_count": 11,
   "id": "663c222c-57da-4620-807e-2a8ff8291e66",
   "metadata": {},
   "outputs": [
    {
     "name": "stdout",
     "output_type": "stream",
     "text": [
      "0.8326937835763623\n",
      "0.7133464825772519\n",
      "1.0\n",
      "0.7133464825772519\n"
     ]
    }
   ],
   "source": [
    "#metrics for dummy classifier / most frequent strategy\n",
    "scores = [f1_score, precision_score, recall_score, accuracy_score]\n",
    "\n",
    "for score in scores:\n",
    "    print(score(y_test, y_pred_frq))"
   ]
  },
  {
   "cell_type": "code",
   "execution_count": 12,
   "id": "1d7a7072-3db9-4357-89c9-d9cd10b28342",
   "metadata": {},
   "outputs": [
    {
     "name": "stdout",
     "output_type": "stream",
     "text": [
      "0.7123476661301449\n",
      "0.710876548875631\n",
      "0.7138248847926267\n",
      "0.5887573964497042\n"
     ]
    }
   ],
   "source": [
    "#metrics for dummy classifier / stratified strategy\n",
    "scores = [f1_score, precision_score, recall_score, accuracy_score]\n",
    "\n",
    "for score in scores:\n",
    "    print(score(y_test, y_pred_str))"
   ]
  },
  {
   "cell_type": "markdown",
   "id": "0b0e9cc9-6458-4331-bf39-849dcad463ad",
   "metadata": {},
   "source": [
    "##Simple Classifier"
   ]
  },
  {
   "cell_type": "code",
   "execution_count": 13,
   "id": "0fd26064-9a78-4160-ba12-b8101ed9e98e",
   "metadata": {},
   "outputs": [
    {
     "name": "stdout",
     "output_type": "stream",
     "text": [
      "0.7770027062142402 0.8203514825050202 0.7398617511520736 0.6953163516844701\n"
     ]
    }
   ],
   "source": [
    "clf = DecisionTreeClassifier()\n",
    "cv = StratifiedShuffleSplit(n_splits = 5) \n",
    "f1 = cross_val_score(clf, X_train, y_train, cv=cv, scoring = \"f1\" )\n",
    "prec = cross_val_score(clf, X_train, y_train, cv=cv, scoring = \"precision\" )\n",
    "rec = cross_val_score(clf, X_train, y_train, cv=cv, scoring = \"recall\" )\n",
    "acc = cross_val_score(clf, X_train, y_train, cv=cv, scoring = \"accuracy\" )\n",
    "print(f1.mean(), prec.mean(), rec.mean(), acc.mean())"
   ]
  },
  {
   "cell_type": "code",
   "execution_count": 14,
   "id": "233729d7-abaa-44a3-b81a-2960927e43ed",
   "metadata": {},
   "outputs": [
    {
     "data": {
      "text/plain": [
       "{'ccp_alpha': 0.0,\n",
       " 'class_weight': None,\n",
       " 'criterion': 'gini',\n",
       " 'max_depth': None,\n",
       " 'max_features': None,\n",
       " 'max_leaf_nodes': None,\n",
       " 'min_impurity_decrease': 0.0,\n",
       " 'min_samples_leaf': 1,\n",
       " 'min_samples_split': 2,\n",
       " 'min_weight_fraction_leaf': 0.0,\n",
       " 'random_state': None,\n",
       " 'splitter': 'best'}"
      ]
     },
     "execution_count": 14,
     "metadata": {},
     "output_type": "execute_result"
    }
   ],
   "source": [
    "clf.get_params()"
   ]
  },
  {
   "cell_type": "markdown",
   "id": "1e6b3681-3e1f-4890-9c15-d9c65f9cbfb6",
   "metadata": {},
   "source": [
    "Hyperparameter tuning"
   ]
  },
  {
   "cell_type": "code",
   "execution_count": 15,
   "id": "32cd66c5-f979-4b96-b770-71b6e8395a2f",
   "metadata": {},
   "outputs": [],
   "source": [
    "import scipy"
   ]
  },
  {
   "cell_type": "code",
   "execution_count": 16,
   "id": "92b36241-aac5-4061-92f6-b8ec89dc9e01",
   "metadata": {},
   "outputs": [],
   "source": [
    "rand_params = {'max_depth': scipy.stats.randint(2,50), \"min_samples_leaf\": scipy.stats.randint(10,1000), \n",
    "               \"min_samples_split\": scipy.stats.randint(20,2000)}"
   ]
  },
  {
   "cell_type": "code",
   "execution_count": 17,
   "id": "43017dcf-8d29-48b6-b424-ca2487c83aea",
   "metadata": {},
   "outputs": [],
   "source": [
    "rand_search = RandomizedSearchCV(clf, rand_params, n_iter=30, scoring = \"f1\", cv = cv)"
   ]
  },
  {
   "cell_type": "code",
   "execution_count": 18,
   "id": "928afbf1-025b-46ea-96f7-84a03b504c4e",
   "metadata": {},
   "outputs": [
    {
     "data": {
      "text/plain": [
       "RandomizedSearchCV(cv=StratifiedShuffleSplit(n_splits=5, random_state=None, test_size=None,\n",
       "            train_size=None),\n",
       "                   estimator=DecisionTreeClassifier(), n_iter=30,\n",
       "                   param_distributions={'max_depth': <scipy.stats._distn_infrastructure.rv_frozen object at 0x000002647BE3F850>,\n",
       "                                        'min_samples_leaf': <scipy.stats._distn_infrastructure.rv_frozen object at 0x0000026401A4D790>,\n",
       "                                        'min_samples_split': <scipy.stats._distn_infrastructure.rv_frozen object at 0x0000026401A5B8B0>},\n",
       "                   scoring='f1')"
      ]
     },
     "execution_count": 18,
     "metadata": {},
     "output_type": "execute_result"
    }
   ],
   "source": [
    "rand_search.fit(X_train, y_train)"
   ]
  },
  {
   "cell_type": "code",
   "execution_count": 19,
   "id": "b8acaf14-4c14-4506-a56d-70af8a63f73b",
   "metadata": {},
   "outputs": [
    {
     "data": {
      "text/plain": [
       "0.8326139088729017"
      ]
     },
     "execution_count": 19,
     "metadata": {},
     "output_type": "execute_result"
    }
   ],
   "source": [
    "rand_search.best_score_"
   ]
  },
  {
   "cell_type": "code",
   "execution_count": 20,
   "id": "c2839af1-3aad-4a65-90dc-338c7878c565",
   "metadata": {},
   "outputs": [
    {
     "data": {
      "text/plain": [
       "DecisionTreeClassifier(max_depth=21, min_samples_leaf=747,\n",
       "                       min_samples_split=1272)"
      ]
     },
     "execution_count": 20,
     "metadata": {},
     "output_type": "execute_result"
    }
   ],
   "source": [
    "rand_search.best_estimator_"
   ]
  },
  {
   "cell_type": "code",
   "execution_count": 21,
   "id": "00230ce5-0c8e-4f20-b0f6-09ba690b84da",
   "metadata": {},
   "outputs": [],
   "source": [
    "grid_params = {\"max_depth\":[10, 20, 30, 40, 50], \"min_samples_leaf\":[10, 20, 50, 100, 200, 300, 400, 500, 600, 800], \n",
    "               \"min_samples_split\":[25, 50, 100, 150, 200, 300, 400, 500]}"
   ]
  },
  {
   "cell_type": "code",
   "execution_count": 22,
   "id": "a6875ada-77f1-4c12-b19e-4c4430035d58",
   "metadata": {},
   "outputs": [],
   "source": [
    "grid = GridSearchCV(clf, param_grid = grid_params, scoring = \"f1\", cv = cv)"
   ]
  },
  {
   "cell_type": "code",
   "execution_count": 23,
   "id": "72183564-e5a1-4a20-83f6-20437f69654e",
   "metadata": {},
   "outputs": [
    {
     "data": {
      "text/plain": [
       "GridSearchCV(cv=StratifiedShuffleSplit(n_splits=5, random_state=None, test_size=None,\n",
       "            train_size=None),\n",
       "             estimator=DecisionTreeClassifier(),\n",
       "             param_grid={'max_depth': [10, 20, 30, 40, 50],\n",
       "                         'min_samples_leaf': [10, 20, 50, 100, 200, 300, 400,\n",
       "                                              500, 600, 800],\n",
       "                         'min_samples_split': [25, 50, 100, 150, 200, 300, 400,\n",
       "                                               500]},\n",
       "             scoring='f1')"
      ]
     },
     "execution_count": 23,
     "metadata": {},
     "output_type": "execute_result"
    }
   ],
   "source": [
    "grid.fit(X_train, y_train)"
   ]
  },
  {
   "cell_type": "code",
   "execution_count": 24,
   "id": "3761f2a7-567e-42ec-9e4c-91d3267fb86d",
   "metadata": {},
   "outputs": [
    {
     "data": {
      "text/plain": [
       "0.8326139088729017"
      ]
     },
     "execution_count": 24,
     "metadata": {},
     "output_type": "execute_result"
    }
   ],
   "source": [
    "grid.best_score_"
   ]
  },
  {
   "cell_type": "code",
   "execution_count": 25,
   "id": "33e74052-4365-44ee-9ddd-44de05e73b79",
   "metadata": {},
   "outputs": [
    {
     "data": {
      "text/plain": [
       "DecisionTreeClassifier(max_depth=10, min_samples_leaf=600, min_samples_split=25)"
      ]
     },
     "execution_count": 25,
     "metadata": {},
     "output_type": "execute_result"
    }
   ],
   "source": [
    "grid.best_estimator_"
   ]
  },
  {
   "cell_type": "markdown",
   "id": "c56baf43-8765-457b-adde-2252faeb7e1f",
   "metadata": {},
   "source": [
    "Validation"
   ]
  },
  {
   "cell_type": "code",
   "execution_count": 26,
   "id": "eb92dc4b-bf6b-4acc-80d3-f39774316128",
   "metadata": {
    "scrolled": true,
    "tags": []
   },
   "outputs": [],
   "source": [
    "from plotting import plot_learning_curve, plot_validation_curve"
   ]
  },
  {
   "cell_type": "code",
   "execution_count": 27,
   "id": "a0ab4f7f-441c-44ff-98f6-1f86d86a3665",
   "metadata": {},
   "outputs": [
    {
     "data": {
      "image/png": "[encoded data removed]",
      "text/plain": [
       "<Figure size 720x360 with 1 Axes>"
      ]
     },
     "metadata": {},
     "output_type": "display_data"
    }
   ],
   "source": [
    "learning_curve = plot_learning_curve(grid.best_estimator_, X_train, y_train, cv = cv,  \n",
    "                          train_sizes = np.linspace(.05, 1, 20), scoring = \"f1\")           "
   ]
  },
  {
   "cell_type": "code",
   "execution_count": 28,
   "id": "c34723c1-f9b3-4c2c-82d9-6e6865a88658",
   "metadata": {},
   "outputs": [
    {
     "data": {
      "image/png": "[encoded data removed]",
      "text/plain": [
       "<Figure size 720x360 with 1 Axes>"
      ]
     },
     "metadata": {},
     "output_type": "display_data"
    }
   ],
   "source": [
    "val_max_depth = plot_validation_curve(grid.best_estimator_, X_train, y_train, cv = cv, \n",
    "                                      param_name =\"max_depth\", param_range = np.arange(1,50,1), scoring = \"f1\")"
   ]
  },
  {
   "cell_type": "code",
   "execution_count": null,
   "id": "57f579e4-309e-4741-a1f4-7a0e7ac1d47f",
   "metadata": {},
   "outputs": [],
   "source": []
  }
 ],
 "metadata": {
  "kernelspec": {
   "display_name": "Python 3 (ipykernel)",
   "language": "python",
   "name": "python3"
  },
  "language_info": {
   "codemirror_mode": {
    "name": "ipython",
    "version": 3
   },
   "file_extension": ".py",
   "mimetype": "text/x-python",
   "name": "python",
   "nbconvert_exporter": "python",
   "pygments_lexer": "ipython3",
   "version": "3.9.12"
  }
 },
 "nbformat": 4,
 "nbformat_minor": 5
}
