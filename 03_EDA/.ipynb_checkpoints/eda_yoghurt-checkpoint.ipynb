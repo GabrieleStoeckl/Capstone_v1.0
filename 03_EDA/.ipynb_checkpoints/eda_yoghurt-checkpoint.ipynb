{
 "cells": [
  {
   "cell_type": "code",
   "execution_count": 1,
   "id": "b41daf7a-5ce1-43dc-8fd1-8093ba92f1fa",
   "metadata": {},
   "outputs": [],
   "source": [
    "import numpy as np\n",
    "import pandas as pd\n",
    "import matplotlib.pyplot as plt\n",
    "from pandas_profiling import ProfileReport"
   ]
  },
  {
   "cell_type": "code",
   "execution_count": 2,
   "id": "d0e5d21c-3d3d-4a8a-acc5-322479e745f4",
   "metadata": {},
   "outputs": [],
   "source": [
    "yoghurt_dummy = pd.read_csv(\"../02_data_preparation/yoghurt_w_dummy_data.csv\")\n",
    "yoghurt_ordinal = pd.read_csv(\"../02_data_preparation/yoghurt_w_ordinal_data.csv\")"
   ]
  },
  {
   "cell_type": "code",
   "execution_count": 3,
   "id": "d99ce102-71ea-4e13-b6f3-ebf0f83b9516",
   "metadata": {},
   "outputs": [
    {
     "data": {
      "application/vnd.jupyter.widget-view+json": {
       "model_id": "94e5e49bb8d64f4484e924e17a9b62c5",
       "version_major": 2,
       "version_minor": 0
      },
      "text/plain": [
       "Summarize dataset:   0%|          | 0/5 [00:00<?, ?it/s]"
      ]
     },
     "metadata": {},
     "output_type": "display_data"
    },
    {
     "data": {
      "application/vnd.jupyter.widget-view+json": {
       "model_id": "6437286fde3b4a9a9e2ac31adf1c5ef8",
       "version_major": 2,
       "version_minor": 0
      },
      "text/plain": [
       "Generate report structure:   0%|          | 0/1 [00:00<?, ?it/s]"
      ]
     },
     "metadata": {},
     "output_type": "display_data"
    },
    {
     "data": {
      "application/vnd.jupyter.widget-view+json": {
       "model_id": "557e300992cd422eb74a68e7f4bbfbae",
       "version_major": 2,
       "version_minor": 0
      },
      "text/plain": [
       "Render HTML:   0%|          | 0/1 [00:00<?, ?it/s]"
      ]
     },
     "metadata": {},
     "output_type": "display_data"
    },
    {
     "data": {
      "application/vnd.jupyter.widget-view+json": {
       "model_id": "b15e1e42ac484c78b5397924f61acbd5",
       "version_major": 2,
       "version_minor": 0
      },
      "text/plain": [
       "Export report to file:   0%|          | 0/1 [00:00<?, ?it/s]"
      ]
     },
     "metadata": {},
     "output_type": "display_data"
    },
    {
     "data": {
      "application/vnd.jupyter.widget-view+json": {
       "model_id": "72ac10be6a894dadb9136ea04edbdebc",
       "version_major": 2,
       "version_minor": 0
      },
      "text/plain": [
       "Summarize dataset:   0%|          | 0/5 [00:00<?, ?it/s]"
      ]
     },
     "metadata": {},
     "output_type": "display_data"
    },
    {
     "data": {
      "application/vnd.jupyter.widget-view+json": {
       "model_id": "ea42e07e570d4eb4b0d57d691b686234",
       "version_major": 2,
       "version_minor": 0
      },
      "text/plain": [
       "Generate report structure:   0%|          | 0/1 [00:00<?, ?it/s]"
      ]
     },
     "metadata": {},
     "output_type": "display_data"
    },
    {
     "data": {
      "application/vnd.jupyter.widget-view+json": {
       "model_id": "8e9d0dadf5cc4e278d29c131551995cc",
       "version_major": 2,
       "version_minor": 0
      },
      "text/plain": [
       "Render HTML:   0%|          | 0/1 [00:00<?, ?it/s]"
      ]
     },
     "metadata": {},
     "output_type": "display_data"
    },
    {
     "data": {
      "application/vnd.jupyter.widget-view+json": {
       "model_id": "353c65b7203240299aae8f8276298bd7",
       "version_major": 2,
       "version_minor": 0
      },
      "text/plain": [
       "Export report to file:   0%|          | 0/1 [00:00<?, ?it/s]"
      ]
     },
     "metadata": {},
     "output_type": "display_data"
    }
   ],
   "source": [
    "prof_dummy = ProfileReport(yoghurt_dummy)\n",
    "prof_ordinal = ProfileReport(yoghurt_ordinal)\n",
    "prof_dummy.to_file(output_file='output_yoghurt_dummy.html')\n",
    "prof_ordinal.to_file(output_file=\"output_yoghurt_ordinal.html\")"
   ]
  },
  {
   "cell_type": "code",
   "execution_count": 4,
   "id": "7663b01e-b63a-43d9-af49-becfa5b9d6e4",
   "metadata": {},
   "outputs": [
    {
     "name": "stdout",
     "output_type": "stream",
     "text": [
      "<class 'pandas.core.frame.DataFrame'>\n",
      "RangeIndex: 15207 entries, 0 to 15206\n",
      "Data columns (total 68 columns):\n",
      " #   Column                     Non-Null Count  Dtype  \n",
      "---  ------                     --------------  -----  \n",
      " 0   Unnamed: 0                 15207 non-null  int64  \n",
      " 1   first_purchase             15207 non-null  bool   \n",
      " 2   shelf_price                15207 non-null  float64\n",
      " 3   pct_disc                   15207 non-null  float64\n",
      " 4   pct_retail_disc            15207 non-null  float64\n",
      " 5   pct_coupon_disc            15207 non-null  float64\n",
      " 6   display_1                  15207 non-null  int64  \n",
      " 7   display_2                  15207 non-null  int64  \n",
      " 8   display_3                  15207 non-null  int64  \n",
      " 9   display_4                  15207 non-null  int64  \n",
      " 10  display_5                  15207 non-null  int64  \n",
      " 11  display_6                  15207 non-null  int64  \n",
      " 12  display_7                  15207 non-null  int64  \n",
      " 13  display_9                  15207 non-null  int64  \n",
      " 14  display_A                  15207 non-null  int64  \n",
      " 15  mailer_A                   15207 non-null  int64  \n",
      " 16  mailer_C                   15207 non-null  int64  \n",
      " 17  mailer_D                   15207 non-null  int64  \n",
      " 18  mailer_F                   15207 non-null  int64  \n",
      " 19  mailer_H                   15207 non-null  int64  \n",
      " 20  mailer_J                   15207 non-null  int64  \n",
      " 21  mailer_L                   15207 non-null  int64  \n",
      " 22  marital_status_A           15207 non-null  int64  \n",
      " 23  marital_status_B           15207 non-null  int64  \n",
      " 24  homeowner_Homeowner        15207 non-null  int64  \n",
      " 25  homeowner_Probable Owner   15207 non-null  int64  \n",
      " 26  homeowner_Probable Renter  15207 non-null  int64  \n",
      " 27  homeowner_Renter           15207 non-null  int64  \n",
      " 28  hhcomp_1 Adult Kids        15207 non-null  int64  \n",
      " 29  hhcomp_2 Adults Kids       15207 non-null  int64  \n",
      " 30  hhcomp_2 Adults No Kids    15207 non-null  int64  \n",
      " 31  hhcomp_Single Female       15207 non-null  int64  \n",
      " 32  hhcomp_Single Male         15207 non-null  int64  \n",
      " 33  kid_category_1             15207 non-null  int64  \n",
      " 34  kid_category_2             15207 non-null  int64  \n",
      " 35  kid_category_3+            15207 non-null  int64  \n",
      " 36  kid_category_None/Unknown  15207 non-null  int64  \n",
      " 37  age_19-24                  15207 non-null  int64  \n",
      " 38  age_25-34                  15207 non-null  int64  \n",
      " 39  age_35-44                  15207 non-null  int64  \n",
      " 40  age_45-54                  15207 non-null  int64  \n",
      " 41  age_55-64                  15207 non-null  int64  \n",
      " 42  age_65+                    15207 non-null  int64  \n",
      " 43  income_100-124K            15207 non-null  int64  \n",
      " 44  income_125-149K            15207 non-null  int64  \n",
      " 45  income_15-24K              15207 non-null  int64  \n",
      " 46  income_150-174K            15207 non-null  int64  \n",
      " 47  income_175-199K            15207 non-null  int64  \n",
      " 48  income_200-249K            15207 non-null  int64  \n",
      " 49  income_25-34K              15207 non-null  int64  \n",
      " 50  income_250K+               15207 non-null  int64  \n",
      " 51  income_35-49K              15207 non-null  int64  \n",
      " 52  income_50-74K              15207 non-null  int64  \n",
      " 53  income_75-99K              15207 non-null  int64  \n",
      " 54  income_Under 15K           15207 non-null  int64  \n",
      " 55  hhsize_1                   15207 non-null  int64  \n",
      " 56  hhsize_2                   15207 non-null  int64  \n",
      " 57  hhsize_3                   15207 non-null  int64  \n",
      " 58  hhsize_4                   15207 non-null  int64  \n",
      " 59  hhsize_5+                  15207 non-null  int64  \n",
      " 60  campaign_8.0               15207 non-null  int64  \n",
      " 61  campaign_13.0              15207 non-null  int64  \n",
      " 62  campaign_18.0              15207 non-null  int64  \n",
      " 63  campaign_25.0              15207 non-null  int64  \n",
      " 64  campaign_26.0              15207 non-null  int64  \n",
      " 65  campaign_30.0              15207 non-null  int64  \n",
      " 66  description_TypeA          15207 non-null  int64  \n",
      " 67  description_TypeB          15207 non-null  int64  \n",
      "dtypes: bool(1), float64(4), int64(63)\n",
      "memory usage: 7.8 MB\n"
     ]
    }
   ],
   "source": [
    "yoghurt_dummy.info()"
   ]
  },
  {
   "cell_type": "code",
   "execution_count": null,
   "id": "79488240-e9a0-45eb-81ff-b131790bd1a2",
   "metadata": {},
   "outputs": [],
   "source": []
  }
 ],
 "metadata": {
  "kernelspec": {
   "display_name": "Python 3 (ipykernel)",
   "language": "python",
   "name": "python3"
  },
  "language_info": {
   "codemirror_mode": {
    "name": "ipython",
    "version": 3
   },
   "file_extension": ".py",
   "mimetype": "text/x-python",
   "name": "python",
   "nbconvert_exporter": "python",
   "pygments_lexer": "ipython3",
   "version": "3.9.12"
  }
 },
 "nbformat": 4,
 "nbformat_minor": 5
}
