{
 "cells": [
  {
   "cell_type": "code",
   "execution_count": 5,
   "id": "b41daf7a-5ce1-43dc-8fd1-8093ba92f1fa",
   "metadata": {},
   "outputs": [],
   "source": [
    "import numpy as np\n",
    "import pandas as pd\n",
    "import matplotlib.pyplot as plt\n",
    "from pandas_profiling import ProfileReport"
   ]
  },
  {
   "cell_type": "code",
   "execution_count": 6,
   "id": "d0e5d21c-3d3d-4a8a-acc5-322479e745f4",
   "metadata": {},
   "outputs": [],
   "source": [
    "pet_dummy = pd.read_csv(\"../02_data_preparation/pet_w_dummy_data.csv\")\n",
    "pet_ordinal = pd.read_csv(\"../02_data_preparation/pet_w_ordinal_data.csv\")"
   ]
  },
  {
   "cell_type": "code",
   "execution_count": 7,
   "id": "d99ce102-71ea-4e13-b6f3-ebf0f83b9516",
   "metadata": {},
   "outputs": [
    {
     "data": {
      "application/vnd.jupyter.widget-view+json": {
       "model_id": "2922f5ec49874143b2f4dcf1e6476229",
       "version_major": 2,
       "version_minor": 0
      },
      "text/plain": [
       "Summarize dataset:   0%|          | 0/5 [00:00<?, ?it/s]"
      ]
     },
     "metadata": {},
     "output_type": "display_data"
    },
    {
     "data": {
      "application/vnd.jupyter.widget-view+json": {
       "model_id": "75374ef9d7a348ed9d91b20037520e71",
       "version_major": 2,
       "version_minor": 0
      },
      "text/plain": [
       "Generate report structure:   0%|          | 0/1 [00:00<?, ?it/s]"
      ]
     },
     "metadata": {},
     "output_type": "display_data"
    },
    {
     "data": {
      "application/vnd.jupyter.widget-view+json": {
       "model_id": "900a7e466c2f42e5a6ffbff30ee5ce71",
       "version_major": 2,
       "version_minor": 0
      },
      "text/plain": [
       "Render HTML:   0%|          | 0/1 [00:00<?, ?it/s]"
      ]
     },
     "metadata": {},
     "output_type": "display_data"
    },
    {
     "data": {
      "application/vnd.jupyter.widget-view+json": {
       "model_id": "6ac4745177f84a3b8faa14afcba2a72b",
       "version_major": 2,
       "version_minor": 0
      },
      "text/plain": [
       "Export report to file:   0%|          | 0/1 [00:00<?, ?it/s]"
      ]
     },
     "metadata": {},
     "output_type": "display_data"
    },
    {
     "data": {
      "application/vnd.jupyter.widget-view+json": {
       "model_id": "516a606332cb49e2bd8eef278205f962",
       "version_major": 2,
       "version_minor": 0
      },
      "text/plain": [
       "Summarize dataset:   0%|          | 0/5 [00:00<?, ?it/s]"
      ]
     },
     "metadata": {},
     "output_type": "display_data"
    },
    {
     "data": {
      "application/vnd.jupyter.widget-view+json": {
       "model_id": "1f1a5a75f1cb4073ada89c7573b6bce1",
       "version_major": 2,
       "version_minor": 0
      },
      "text/plain": [
       "Generate report structure:   0%|          | 0/1 [00:00<?, ?it/s]"
      ]
     },
     "metadata": {},
     "output_type": "display_data"
    },
    {
     "data": {
      "application/vnd.jupyter.widget-view+json": {
       "model_id": "80fa3051c7fa4025bd6e9ab742e22105",
       "version_major": 2,
       "version_minor": 0
      },
      "text/plain": [
       "Render HTML:   0%|          | 0/1 [00:00<?, ?it/s]"
      ]
     },
     "metadata": {},
     "output_type": "display_data"
    },
    {
     "data": {
      "application/vnd.jupyter.widget-view+json": {
       "model_id": "56374a0bb7db44029d2c646e6e96bc0c",
       "version_major": 2,
       "version_minor": 0
      },
      "text/plain": [
       "Export report to file:   0%|          | 0/1 [00:00<?, ?it/s]"
      ]
     },
     "metadata": {},
     "output_type": "display_data"
    }
   ],
   "source": [
    "prof_dummy = ProfileReport(pet_dummy)\n",
    "prof_ordinal = ProfileReport(pet_ordinal)\n",
    "prof_dummy.to_file(output_file='output_pet_dummy.html')\n",
    "prof_ordinal.to_file(output_file=\"output_pet_ordinal.html\")"
   ]
  },
  {
   "cell_type": "code",
   "execution_count": 8,
   "id": "7663b01e-b63a-43d9-af49-becfa5b9d6e4",
   "metadata": {},
   "outputs": [
    {
     "name": "stdout",
     "output_type": "stream",
     "text": [
      "<class 'pandas.core.frame.DataFrame'>\n",
      "RangeIndex: 14829 entries, 0 to 14828\n",
      "Data columns (total 68 columns):\n",
      " #   Column                     Non-Null Count  Dtype  \n",
      "---  ------                     --------------  -----  \n",
      " 0   Unnamed: 0                 14829 non-null  int64  \n",
      " 1   first_purchase             14829 non-null  bool   \n",
      " 2   shelf_price                14829 non-null  float64\n",
      " 3   pct_disc                   14829 non-null  float64\n",
      " 4   pct_retail_disc            14829 non-null  float64\n",
      " 5   pct_coupon_disc            14829 non-null  float64\n",
      " 6   display_1                  14829 non-null  int64  \n",
      " 7   display_2                  14829 non-null  int64  \n",
      " 8   display_3                  14829 non-null  int64  \n",
      " 9   display_4                  14829 non-null  int64  \n",
      " 10  display_5                  14829 non-null  int64  \n",
      " 11  display_6                  14829 non-null  int64  \n",
      " 12  display_7                  14829 non-null  int64  \n",
      " 13  display_9                  14829 non-null  int64  \n",
      " 14  display_A                  14829 non-null  int64  \n",
      " 15  mailer_A                   14829 non-null  int64  \n",
      " 16  mailer_C                   14829 non-null  int64  \n",
      " 17  mailer_F                   14829 non-null  int64  \n",
      " 18  mailer_H                   14829 non-null  int64  \n",
      " 19  mailer_L                   14829 non-null  int64  \n",
      " 20  marital_status_A           14829 non-null  int64  \n",
      " 21  marital_status_B           14829 non-null  int64  \n",
      " 22  homeowner_Homeowner        14829 non-null  int64  \n",
      " 23  homeowner_Probable Owner   14829 non-null  int64  \n",
      " 24  homeowner_Probable Renter  14829 non-null  int64  \n",
      " 25  homeowner_Renter           14829 non-null  int64  \n",
      " 26  hhcomp_1 Adult Kids        14829 non-null  int64  \n",
      " 27  hhcomp_2 Adults Kids       14829 non-null  int64  \n",
      " 28  hhcomp_2 Adults No Kids    14829 non-null  int64  \n",
      " 29  hhcomp_Single Female       14829 non-null  int64  \n",
      " 30  hhcomp_Single Male         14829 non-null  int64  \n",
      " 31  kid_category_1             14829 non-null  int64  \n",
      " 32  kid_category_2             14829 non-null  int64  \n",
      " 33  kid_category_3+            14829 non-null  int64  \n",
      " 34  kid_category_None/Unknown  14829 non-null  int64  \n",
      " 35  age_19-24                  14829 non-null  int64  \n",
      " 36  age_25-34                  14829 non-null  int64  \n",
      " 37  age_35-44                  14829 non-null  int64  \n",
      " 38  age_45-54                  14829 non-null  int64  \n",
      " 39  age_55-64                  14829 non-null  int64  \n",
      " 40  age_65+                    14829 non-null  int64  \n",
      " 41  income_100-124K            14829 non-null  int64  \n",
      " 42  income_125-149K            14829 non-null  int64  \n",
      " 43  income_15-24K              14829 non-null  int64  \n",
      " 44  income_150-174K            14829 non-null  int64  \n",
      " 45  income_175-199K            14829 non-null  int64  \n",
      " 46  income_200-249K            14829 non-null  int64  \n",
      " 47  income_25-34K              14829 non-null  int64  \n",
      " 48  income_250K+               14829 non-null  int64  \n",
      " 49  income_35-49K              14829 non-null  int64  \n",
      " 50  income_50-74K              14829 non-null  int64  \n",
      " 51  income_75-99K              14829 non-null  int64  \n",
      " 52  income_Under 15K           14829 non-null  int64  \n",
      " 53  hhsize_1                   14829 non-null  int64  \n",
      " 54  hhsize_2                   14829 non-null  int64  \n",
      " 55  hhsize_3                   14829 non-null  int64  \n",
      " 56  hhsize_4                   14829 non-null  int64  \n",
      " 57  hhsize_5+                  14829 non-null  int64  \n",
      " 58  campaign_8.0               14829 non-null  int64  \n",
      " 59  campaign_13.0              14829 non-null  int64  \n",
      " 60  campaign_15.0              14829 non-null  int64  \n",
      " 61  campaign_18.0              14829 non-null  int64  \n",
      " 62  campaign_24.0              14829 non-null  int64  \n",
      " 63  campaign_26.0              14829 non-null  int64  \n",
      " 64  campaign_30.0              14829 non-null  int64  \n",
      " 65  description_TypeA          14829 non-null  int64  \n",
      " 66  description_TypeB          14829 non-null  int64  \n",
      " 67  description_TypeC          14829 non-null  int64  \n",
      "dtypes: bool(1), float64(4), int64(63)\n",
      "memory usage: 7.6 MB\n"
     ]
    }
   ],
   "source": [
    "pet_dummy.info()"
   ]
  },
  {
   "cell_type": "code",
   "execution_count": null,
   "id": "79488240-e9a0-45eb-81ff-b131790bd1a2",
   "metadata": {},
   "outputs": [],
   "source": []
  }
 ],
 "metadata": {
  "kernelspec": {
   "display_name": "Python 3 (ipykernel)",
   "language": "python",
   "name": "python3"
  },
  "language_info": {
   "codemirror_mode": {
    "name": "ipython",
    "version": 3
   },
   "file_extension": ".py",
   "mimetype": "text/x-python",
   "name": "python",
   "nbconvert_exporter": "python",
   "pygments_lexer": "ipython3",
   "version": "3.9.12"
  }
 },
 "nbformat": 4,
 "nbformat_minor": 5
}
