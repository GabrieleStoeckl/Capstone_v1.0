{
 "cells": [
  {
   "cell_type": "markdown",
   "id": "87e2fb16-e8fc-43e9-b635-5ea146073236",
   "metadata": {},
   "source": [
    "# Checking out different product categories in data set\n",
    "\n",
    "Eligible product categories for analysis and modelling have to meet the following criteria:\n",
    "- sufficient number of transactions/samples, aka sufficiently high purchase frequency\n",
    "- good distribution of target variable new purchases\n",
    "- from a domain perspective, neither too price- and private label-driven nor characterized by too high consumer involvement"
   ]
  },
  {
   "cell_type": "code",
   "execution_count": 2,
   "id": "625aca05-f849-418d-99d0-9f1a0e3370b9",
   "metadata": {},
   "outputs": [],
   "source": [
    "import numpy as np\n",
    "import pandas as pd\n",
    "import matplotlib.pyplot as plt\n",
    "import seaborn as sns\n",
    "sns.set()"
   ]
  },
  {
   "cell_type": "code",
   "execution_count": 2,
   "id": "9826f6ef-c7d0-4bc4-af08-6c99006098dc",
   "metadata": {},
   "outputs": [
    {
     "data": {
      "text/html": [
       "<div>\n",
       "<style scoped>\n",
       "    .dataframe tbody tr th:only-of-type {\n",
       "        vertical-align: middle;\n",
       "    }\n",
       "\n",
       "    .dataframe tbody tr th {\n",
       "        vertical-align: top;\n",
       "    }\n",
       "\n",
       "    .dataframe thead th {\n",
       "        text-align: right;\n",
       "    }\n",
       "</style>\n",
       "<table border=\"1\" class=\"dataframe\">\n",
       "  <thead>\n",
       "    <tr style=\"text-align: right;\">\n",
       "      <th></th>\n",
       "      <th>household_key</th>\n",
       "      <th>BASKET_ID</th>\n",
       "      <th>DAY</th>\n",
       "      <th>PRODUCT_ID</th>\n",
       "      <th>QUANTITY</th>\n",
       "      <th>SALES_VALUE</th>\n",
       "      <th>STORE_ID</th>\n",
       "      <th>RETAIL_DISC</th>\n",
       "      <th>TRANS_TIME</th>\n",
       "      <th>WEEK_NO</th>\n",
       "      <th>COUPON_DISC</th>\n",
       "      <th>COUPON_MATCH_DISC</th>\n",
       "    </tr>\n",
       "  </thead>\n",
       "  <tbody>\n",
       "    <tr>\n",
       "      <th>0</th>\n",
       "      <td>2375</td>\n",
       "      <td>26984851472</td>\n",
       "      <td>1</td>\n",
       "      <td>1004906</td>\n",
       "      <td>1</td>\n",
       "      <td>1.39</td>\n",
       "      <td>364</td>\n",
       "      <td>-0.60</td>\n",
       "      <td>1631</td>\n",
       "      <td>1</td>\n",
       "      <td>0.0</td>\n",
       "      <td>0.0</td>\n",
       "    </tr>\n",
       "    <tr>\n",
       "      <th>1</th>\n",
       "      <td>2375</td>\n",
       "      <td>26984851472</td>\n",
       "      <td>1</td>\n",
       "      <td>1033142</td>\n",
       "      <td>1</td>\n",
       "      <td>0.82</td>\n",
       "      <td>364</td>\n",
       "      <td>0.00</td>\n",
       "      <td>1631</td>\n",
       "      <td>1</td>\n",
       "      <td>0.0</td>\n",
       "      <td>0.0</td>\n",
       "    </tr>\n",
       "    <tr>\n",
       "      <th>2</th>\n",
       "      <td>2375</td>\n",
       "      <td>26984851472</td>\n",
       "      <td>1</td>\n",
       "      <td>1036325</td>\n",
       "      <td>1</td>\n",
       "      <td>0.99</td>\n",
       "      <td>364</td>\n",
       "      <td>-0.30</td>\n",
       "      <td>1631</td>\n",
       "      <td>1</td>\n",
       "      <td>0.0</td>\n",
       "      <td>0.0</td>\n",
       "    </tr>\n",
       "    <tr>\n",
       "      <th>3</th>\n",
       "      <td>2375</td>\n",
       "      <td>26984851472</td>\n",
       "      <td>1</td>\n",
       "      <td>1082185</td>\n",
       "      <td>1</td>\n",
       "      <td>1.21</td>\n",
       "      <td>364</td>\n",
       "      <td>0.00</td>\n",
       "      <td>1631</td>\n",
       "      <td>1</td>\n",
       "      <td>0.0</td>\n",
       "      <td>0.0</td>\n",
       "    </tr>\n",
       "    <tr>\n",
       "      <th>4</th>\n",
       "      <td>2375</td>\n",
       "      <td>26984851472</td>\n",
       "      <td>1</td>\n",
       "      <td>8160430</td>\n",
       "      <td>1</td>\n",
       "      <td>1.50</td>\n",
       "      <td>364</td>\n",
       "      <td>-0.39</td>\n",
       "      <td>1631</td>\n",
       "      <td>1</td>\n",
       "      <td>0.0</td>\n",
       "      <td>0.0</td>\n",
       "    </tr>\n",
       "  </tbody>\n",
       "</table>\n",
       "</div>"
      ],
      "text/plain": [
       "   household_key    BASKET_ID  DAY  PRODUCT_ID  QUANTITY  SALES_VALUE  \\\n",
       "0           2375  26984851472    1     1004906         1         1.39   \n",
       "1           2375  26984851472    1     1033142         1         0.82   \n",
       "2           2375  26984851472    1     1036325         1         0.99   \n",
       "3           2375  26984851472    1     1082185         1         1.21   \n",
       "4           2375  26984851472    1     8160430         1         1.50   \n",
       "\n",
       "   STORE_ID  RETAIL_DISC  TRANS_TIME  WEEK_NO  COUPON_DISC  COUPON_MATCH_DISC  \n",
       "0       364        -0.60        1631        1          0.0                0.0  \n",
       "1       364         0.00        1631        1          0.0                0.0  \n",
       "2       364        -0.30        1631        1          0.0                0.0  \n",
       "3       364         0.00        1631        1          0.0                0.0  \n",
       "4       364        -0.39        1631        1          0.0                0.0  "
      ]
     },
     "execution_count": 2,
     "metadata": {},
     "output_type": "execute_result"
    }
   ],
   "source": [
    "transactions = pd.read_csv(\"data/transaction_data.csv\")\n",
    "transactions.head()"
   ]
  },
  {
   "cell_type": "code",
   "execution_count": 3,
   "id": "883a7cea-016f-4cc9-a310-2a4388cb85aa",
   "metadata": {},
   "outputs": [
    {
     "name": "stdout",
     "output_type": "stream",
     "text": [
      "<class 'pandas.core.frame.DataFrame'>\n",
      "RangeIndex: 2595732 entries, 0 to 2595731\n",
      "Data columns (total 12 columns):\n",
      " #   Column             Dtype  \n",
      "---  ------             -----  \n",
      " 0   household_key      int64  \n",
      " 1   BASKET_ID          int64  \n",
      " 2   DAY                int64  \n",
      " 3   PRODUCT_ID         int64  \n",
      " 4   QUANTITY           int64  \n",
      " 5   SALES_VALUE        float64\n",
      " 6   STORE_ID           int64  \n",
      " 7   RETAIL_DISC        float64\n",
      " 8   TRANS_TIME         int64  \n",
      " 9   WEEK_NO            int64  \n",
      " 10  COUPON_DISC        float64\n",
      " 11  COUPON_MATCH_DISC  float64\n",
      "dtypes: float64(4), int64(8)\n",
      "memory usage: 237.6 MB\n"
     ]
    }
   ],
   "source": [
    "transactions.info()"
   ]
  },
  {
   "cell_type": "code",
   "execution_count": 4,
   "id": "ae3ae3dd-0ab2-4ca9-9c12-c41f66a731a2",
   "metadata": {},
   "outputs": [
    {
     "data": {
      "text/html": [
       "<div>\n",
       "<style scoped>\n",
       "    .dataframe tbody tr th:only-of-type {\n",
       "        vertical-align: middle;\n",
       "    }\n",
       "\n",
       "    .dataframe tbody tr th {\n",
       "        vertical-align: top;\n",
       "    }\n",
       "\n",
       "    .dataframe thead th {\n",
       "        text-align: right;\n",
       "    }\n",
       "</style>\n",
       "<table border=\"1\" class=\"dataframe\">\n",
       "  <thead>\n",
       "    <tr style=\"text-align: right;\">\n",
       "      <th></th>\n",
       "      <th>PRODUCT_ID</th>\n",
       "      <th>MANUFACTURER</th>\n",
       "      <th>DEPARTMENT</th>\n",
       "      <th>BRAND</th>\n",
       "      <th>COMMODITY_DESC</th>\n",
       "      <th>SUB_COMMODITY_DESC</th>\n",
       "      <th>CURR_SIZE_OF_PRODUCT</th>\n",
       "    </tr>\n",
       "  </thead>\n",
       "  <tbody>\n",
       "    <tr>\n",
       "      <th>0</th>\n",
       "      <td>25671</td>\n",
       "      <td>2</td>\n",
       "      <td>GROCERY</td>\n",
       "      <td>National</td>\n",
       "      <td>FRZN ICE</td>\n",
       "      <td>ICE - CRUSHED/CUBED</td>\n",
       "      <td>22 LB</td>\n",
       "    </tr>\n",
       "    <tr>\n",
       "      <th>1</th>\n",
       "      <td>26081</td>\n",
       "      <td>2</td>\n",
       "      <td>MISC. TRANS.</td>\n",
       "      <td>National</td>\n",
       "      <td>NO COMMODITY DESCRIPTION</td>\n",
       "      <td>NO SUBCOMMODITY DESCRIPTION</td>\n",
       "      <td></td>\n",
       "    </tr>\n",
       "    <tr>\n",
       "      <th>2</th>\n",
       "      <td>26093</td>\n",
       "      <td>69</td>\n",
       "      <td>PASTRY</td>\n",
       "      <td>Private</td>\n",
       "      <td>BREAD</td>\n",
       "      <td>BREAD:ITALIAN/FRENCH</td>\n",
       "      <td></td>\n",
       "    </tr>\n",
       "    <tr>\n",
       "      <th>3</th>\n",
       "      <td>26190</td>\n",
       "      <td>69</td>\n",
       "      <td>GROCERY</td>\n",
       "      <td>Private</td>\n",
       "      <td>FRUIT - SHELF STABLE</td>\n",
       "      <td>APPLE SAUCE</td>\n",
       "      <td>50 OZ</td>\n",
       "    </tr>\n",
       "    <tr>\n",
       "      <th>4</th>\n",
       "      <td>26355</td>\n",
       "      <td>69</td>\n",
       "      <td>GROCERY</td>\n",
       "      <td>Private</td>\n",
       "      <td>COOKIES/CONES</td>\n",
       "      <td>SPECIALTY COOKIES</td>\n",
       "      <td>14 OZ</td>\n",
       "    </tr>\n",
       "  </tbody>\n",
       "</table>\n",
       "</div>"
      ],
      "text/plain": [
       "   PRODUCT_ID  MANUFACTURER    DEPARTMENT     BRAND            COMMODITY_DESC  \\\n",
       "0       25671             2       GROCERY  National                  FRZN ICE   \n",
       "1       26081             2  MISC. TRANS.  National  NO COMMODITY DESCRIPTION   \n",
       "2       26093            69        PASTRY   Private                     BREAD   \n",
       "3       26190            69       GROCERY   Private      FRUIT - SHELF STABLE   \n",
       "4       26355            69       GROCERY   Private             COOKIES/CONES   \n",
       "\n",
       "            SUB_COMMODITY_DESC CURR_SIZE_OF_PRODUCT  \n",
       "0          ICE - CRUSHED/CUBED                22 LB  \n",
       "1  NO SUBCOMMODITY DESCRIPTION                       \n",
       "2         BREAD:ITALIAN/FRENCH                       \n",
       "3                  APPLE SAUCE                50 OZ  \n",
       "4            SPECIALTY COOKIES                14 OZ  "
      ]
     },
     "execution_count": 4,
     "metadata": {},
     "output_type": "execute_result"
    }
   ],
   "source": [
    "products = pd.read_csv(\"data/product.csv\")\n",
    "products.head()"
   ]
  },
  {
   "cell_type": "code",
   "execution_count": 5,
   "id": "9587f744-cf6f-4341-8f0f-903ecfd386aa",
   "metadata": {},
   "outputs": [
    {
     "name": "stdout",
     "output_type": "stream",
     "text": [
      "<class 'pandas.core.frame.DataFrame'>\n",
      "RangeIndex: 92353 entries, 0 to 92352\n",
      "Data columns (total 7 columns):\n",
      " #   Column                Non-Null Count  Dtype \n",
      "---  ------                --------------  ----- \n",
      " 0   PRODUCT_ID            92353 non-null  int64 \n",
      " 1   MANUFACTURER          92353 non-null  int64 \n",
      " 2   DEPARTMENT            92353 non-null  object\n",
      " 3   BRAND                 92353 non-null  object\n",
      " 4   COMMODITY_DESC        92353 non-null  object\n",
      " 5   SUB_COMMODITY_DESC    92353 non-null  object\n",
      " 6   CURR_SIZE_OF_PRODUCT  92353 non-null  object\n",
      "dtypes: int64(2), object(5)\n",
      "memory usage: 4.9+ MB\n"
     ]
    }
   ],
   "source": [
    "products.info()"
   ]
  },
  {
   "cell_type": "code",
   "execution_count": 6,
   "id": "9df68f0b-605e-4613-9e93-4fcce85a383c",
   "metadata": {},
   "outputs": [
    {
     "name": "stdout",
     "output_type": "stream",
     "text": [
      "<class 'pandas.core.frame.DataFrame'>\n",
      "Int64Index: 2595732 entries, 0 to 2595731\n",
      "Data columns (total 18 columns):\n",
      " #   Column                Dtype  \n",
      "---  ------                -----  \n",
      " 0   household_key         int64  \n",
      " 1   BASKET_ID             int64  \n",
      " 2   DAY                   int64  \n",
      " 3   PRODUCT_ID            int64  \n",
      " 4   QUANTITY              int64  \n",
      " 5   SALES_VALUE           float64\n",
      " 6   STORE_ID              int64  \n",
      " 7   RETAIL_DISC           float64\n",
      " 8   TRANS_TIME            int64  \n",
      " 9   WEEK_NO               int64  \n",
      " 10  COUPON_DISC           float64\n",
      " 11  COUPON_MATCH_DISC     float64\n",
      " 12  MANUFACTURER          int64  \n",
      " 13  DEPARTMENT            object \n",
      " 14  BRAND                 object \n",
      " 15  COMMODITY_DESC        object \n",
      " 16  SUB_COMMODITY_DESC    object \n",
      " 17  CURR_SIZE_OF_PRODUCT  object \n",
      "dtypes: float64(4), int64(9), object(5)\n",
      "memory usage: 376.3+ MB\n"
     ]
    }
   ],
   "source": [
    "#Append category information to transactions\n",
    "transactions = pd.merge(transactions, products, how = \"left\", on = \"PRODUCT_ID\")\n",
    "transactions.info()"
   ]
  },
  {
   "cell_type": "code",
   "execution_count": 7,
   "id": "cd72173f-fdd0-4e04-b907-5a9bac3aa6e0",
   "metadata": {},
   "outputs": [
    {
     "data": {
      "text/html": [
       "<div>\n",
       "<style scoped>\n",
       "    .dataframe tbody tr th:only-of-type {\n",
       "        vertical-align: middle;\n",
       "    }\n",
       "\n",
       "    .dataframe tbody tr th {\n",
       "        vertical-align: top;\n",
       "    }\n",
       "\n",
       "    .dataframe thead th {\n",
       "        text-align: right;\n",
       "    }\n",
       "</style>\n",
       "<table border=\"1\" class=\"dataframe\">\n",
       "  <thead>\n",
       "    <tr style=\"text-align: right;\">\n",
       "      <th></th>\n",
       "      <th>household_key</th>\n",
       "      <th>BASKET_ID</th>\n",
       "      <th>DAY</th>\n",
       "      <th>PRODUCT_ID</th>\n",
       "      <th>QUANTITY</th>\n",
       "      <th>SALES_VALUE</th>\n",
       "      <th>STORE_ID</th>\n",
       "      <th>RETAIL_DISC</th>\n",
       "      <th>TRANS_TIME</th>\n",
       "      <th>WEEK_NO</th>\n",
       "      <th>COUPON_DISC</th>\n",
       "      <th>COUPON_MATCH_DISC</th>\n",
       "      <th>MANUFACTURER</th>\n",
       "      <th>DEPARTMENT</th>\n",
       "      <th>BRAND</th>\n",
       "      <th>COMMODITY_DESC</th>\n",
       "      <th>SUB_COMMODITY_DESC</th>\n",
       "      <th>CURR_SIZE_OF_PRODUCT</th>\n",
       "    </tr>\n",
       "  </thead>\n",
       "  <tbody>\n",
       "    <tr>\n",
       "      <th>0</th>\n",
       "      <td>2375</td>\n",
       "      <td>26984851472</td>\n",
       "      <td>1</td>\n",
       "      <td>1004906</td>\n",
       "      <td>1</td>\n",
       "      <td>1.39</td>\n",
       "      <td>364</td>\n",
       "      <td>-0.60</td>\n",
       "      <td>1631</td>\n",
       "      <td>1</td>\n",
       "      <td>0.0</td>\n",
       "      <td>0.0</td>\n",
       "      <td>69</td>\n",
       "      <td>PRODUCE</td>\n",
       "      <td>Private</td>\n",
       "      <td>POTATOES</td>\n",
       "      <td>POTATOES RUSSET (BULK&amp;BAG)</td>\n",
       "      <td>5 LB</td>\n",
       "    </tr>\n",
       "    <tr>\n",
       "      <th>1</th>\n",
       "      <td>2375</td>\n",
       "      <td>26984851472</td>\n",
       "      <td>1</td>\n",
       "      <td>1033142</td>\n",
       "      <td>1</td>\n",
       "      <td>0.82</td>\n",
       "      <td>364</td>\n",
       "      <td>0.00</td>\n",
       "      <td>1631</td>\n",
       "      <td>1</td>\n",
       "      <td>0.0</td>\n",
       "      <td>0.0</td>\n",
       "      <td>2</td>\n",
       "      <td>PRODUCE</td>\n",
       "      <td>National</td>\n",
       "      <td>ONIONS</td>\n",
       "      <td>ONIONS SWEET (BULK&amp;BAG)</td>\n",
       "      <td>40 LB</td>\n",
       "    </tr>\n",
       "    <tr>\n",
       "      <th>2</th>\n",
       "      <td>2375</td>\n",
       "      <td>26984851472</td>\n",
       "      <td>1</td>\n",
       "      <td>1036325</td>\n",
       "      <td>1</td>\n",
       "      <td>0.99</td>\n",
       "      <td>364</td>\n",
       "      <td>-0.30</td>\n",
       "      <td>1631</td>\n",
       "      <td>1</td>\n",
       "      <td>0.0</td>\n",
       "      <td>0.0</td>\n",
       "      <td>69</td>\n",
       "      <td>PRODUCE</td>\n",
       "      <td>Private</td>\n",
       "      <td>VEGETABLES - ALL OTHERS</td>\n",
       "      <td>CELERY</td>\n",
       "      <td></td>\n",
       "    </tr>\n",
       "    <tr>\n",
       "      <th>3</th>\n",
       "      <td>2375</td>\n",
       "      <td>26984851472</td>\n",
       "      <td>1</td>\n",
       "      <td>1082185</td>\n",
       "      <td>1</td>\n",
       "      <td>1.21</td>\n",
       "      <td>364</td>\n",
       "      <td>0.00</td>\n",
       "      <td>1631</td>\n",
       "      <td>1</td>\n",
       "      <td>0.0</td>\n",
       "      <td>0.0</td>\n",
       "      <td>2</td>\n",
       "      <td>PRODUCE</td>\n",
       "      <td>National</td>\n",
       "      <td>TROPICAL FRUIT</td>\n",
       "      <td>BANANAS</td>\n",
       "      <td>40 LB</td>\n",
       "    </tr>\n",
       "    <tr>\n",
       "      <th>4</th>\n",
       "      <td>2375</td>\n",
       "      <td>26984851472</td>\n",
       "      <td>1</td>\n",
       "      <td>8160430</td>\n",
       "      <td>1</td>\n",
       "      <td>1.50</td>\n",
       "      <td>364</td>\n",
       "      <td>-0.39</td>\n",
       "      <td>1631</td>\n",
       "      <td>1</td>\n",
       "      <td>0.0</td>\n",
       "      <td>0.0</td>\n",
       "      <td>69</td>\n",
       "      <td>PRODUCE</td>\n",
       "      <td>Private</td>\n",
       "      <td>ORGANICS FRUIT &amp; VEGETABLES</td>\n",
       "      <td>ORGANIC CARROTS</td>\n",
       "      <td>1 LB</td>\n",
       "    </tr>\n",
       "  </tbody>\n",
       "</table>\n",
       "</div>"
      ],
      "text/plain": [
       "   household_key    BASKET_ID  DAY  PRODUCT_ID  QUANTITY  SALES_VALUE  \\\n",
       "0           2375  26984851472    1     1004906         1         1.39   \n",
       "1           2375  26984851472    1     1033142         1         0.82   \n",
       "2           2375  26984851472    1     1036325         1         0.99   \n",
       "3           2375  26984851472    1     1082185         1         1.21   \n",
       "4           2375  26984851472    1     8160430         1         1.50   \n",
       "\n",
       "   STORE_ID  RETAIL_DISC  TRANS_TIME  WEEK_NO  COUPON_DISC  COUPON_MATCH_DISC  \\\n",
       "0       364        -0.60        1631        1          0.0                0.0   \n",
       "1       364         0.00        1631        1          0.0                0.0   \n",
       "2       364        -0.30        1631        1          0.0                0.0   \n",
       "3       364         0.00        1631        1          0.0                0.0   \n",
       "4       364        -0.39        1631        1          0.0                0.0   \n",
       "\n",
       "   MANUFACTURER DEPARTMENT     BRAND               COMMODITY_DESC  \\\n",
       "0            69    PRODUCE   Private                     POTATOES   \n",
       "1             2    PRODUCE  National                       ONIONS   \n",
       "2            69    PRODUCE   Private      VEGETABLES - ALL OTHERS   \n",
       "3             2    PRODUCE  National               TROPICAL FRUIT   \n",
       "4            69    PRODUCE   Private  ORGANICS FRUIT & VEGETABLES   \n",
       "\n",
       "           SUB_COMMODITY_DESC CURR_SIZE_OF_PRODUCT  \n",
       "0  POTATOES RUSSET (BULK&BAG)                 5 LB  \n",
       "1     ONIONS SWEET (BULK&BAG)                40 LB  \n",
       "2                      CELERY                       \n",
       "3                     BANANAS                40 LB  \n",
       "4             ORGANIC CARROTS                 1 LB  "
      ]
     },
     "execution_count": 7,
     "metadata": {},
     "output_type": "execute_result"
    }
   ],
   "source": [
    "transactions.head()"
   ]
  },
  {
   "cell_type": "code",
   "execution_count": 8,
   "id": "b4411b59-f0b8-4c90-a011-45bff463e7f2",
   "metadata": {},
   "outputs": [
    {
     "data": {
      "text/plain": [
       "SOFT DRINKS                     117532\n",
       "FLUID MILK PRODUCTS              85630\n",
       "BAKED BREAD/BUNS/ROLLS           83232\n",
       "CHEESE                           74885\n",
       "BAG SNACKS                       67190\n",
       "                                 ...  \n",
       "NDAIRY/TEAS/JUICE/SOD                2\n",
       "MISCELLANEOUS(CORP USE ONLY)         1\n",
       "EASTER LILY                          1\n",
       "MISCELLANEOUS CROUTONS               1\n",
       "FROZEN PACKAGE MEAT                  1\n",
       "Name: COMMODITY_DESC, Length: 308, dtype: int64"
      ]
     },
     "execution_count": 8,
     "metadata": {},
     "output_type": "execute_result"
    }
   ],
   "source": [
    "transactions[\"COMMODITY_DESC\"].value_counts()"
   ]
  },
  {
   "cell_type": "code",
   "execution_count": 9,
   "id": "1da27352-9a34-45c7-bf89-510a7b4dd434",
   "metadata": {},
   "outputs": [
    {
     "name": "stderr",
     "output_type": "stream",
     "text": [
      "C:\\Users\\Gabriele\\AppData\\Local\\Temp\\ipykernel_13528\\2806816894.py:3: SettingWithCopyWarning: \n",
      "A value is trying to be set on a copy of a slice from a DataFrame\n",
      "\n",
      "See the caveats in the documentation: https://pandas.pydata.org/pandas-docs/stable/user_guide/indexing.html#returning-a-view-versus-a-copy\n",
      "  transactions[\"first_purchase\"].loc[transactions.groupby([\"household_key\", \"PRODUCT_ID\"]).DAY.idxmin()] = 1\n"
     ]
    },
    {
     "data": {
      "text/plain": [
       "1.0    1401469\n",
       "Name: first_purchase, dtype: int64"
      ]
     },
     "execution_count": 9,
     "metadata": {},
     "output_type": "execute_result"
    }
   ],
   "source": [
    "#add column with first purchase per product per household\n",
    "transactions[\"first_purchase\"] = np.NaN\n",
    "transactions[\"first_purchase\"].loc[transactions.groupby([\"household_key\", \"PRODUCT_ID\"]).DAY.idxmin()] = 1\n",
    "transactions[\"first_purchase\"].value_counts()"
   ]
  },
  {
   "cell_type": "code",
   "execution_count": 10,
   "id": "d8e9b7cf-cdbb-401c-a4db-eee724cd7441",
   "metadata": {},
   "outputs": [],
   "source": [
    "transactions[\"first_purchase\"] = transactions[\"first_purchase\"].fillna(0)"
   ]
  },
  {
   "cell_type": "code",
   "execution_count": 11,
   "id": "0410d845-4c33-4d75-88e8-b192d15c64a7",
   "metadata": {},
   "outputs": [
    {
     "data": {
      "text/plain": [
       "1.0    1401469\n",
       "0.0    1194263\n",
       "Name: first_purchase, dtype: int64"
      ]
     },
     "execution_count": 11,
     "metadata": {},
     "output_type": "execute_result"
    }
   ],
   "source": [
    "transactions[\"first_purchase\"].value_counts()"
   ]
  },
  {
   "cell_type": "code",
   "execution_count": 12,
   "id": "fbe70499-ad39-4f4b-9ce1-74810f8a643c",
   "metadata": {},
   "outputs": [
    {
     "name": "stdout",
     "output_type": "stream",
     "text": [
      "<class 'pandas.core.frame.DataFrame'>\n",
      "Int64Index: 2595732 entries, 0 to 2595731\n",
      "Data columns (total 19 columns):\n",
      " #   Column                Dtype  \n",
      "---  ------                -----  \n",
      " 0   household_key         int64  \n",
      " 1   BASKET_ID             int64  \n",
      " 2   DAY                   int64  \n",
      " 3   PRODUCT_ID            int64  \n",
      " 4   QUANTITY              int64  \n",
      " 5   SALES_VALUE           float64\n",
      " 6   STORE_ID              int64  \n",
      " 7   RETAIL_DISC           float64\n",
      " 8   TRANS_TIME            int64  \n",
      " 9   WEEK_NO               int64  \n",
      " 10  COUPON_DISC           float64\n",
      " 11  COUPON_MATCH_DISC     float64\n",
      " 12  MANUFACTURER          int64  \n",
      " 13  DEPARTMENT            object \n",
      " 14  BRAND                 object \n",
      " 15  COMMODITY_DESC        object \n",
      " 16  SUB_COMMODITY_DESC    object \n",
      " 17  CURR_SIZE_OF_PRODUCT  object \n",
      " 18  first_purchase        float64\n",
      "dtypes: float64(5), int64(9), object(5)\n",
      "memory usage: 460.6+ MB\n"
     ]
    }
   ],
   "source": [
    "transactions.info()"
   ]
  },
  {
   "cell_type": "code",
   "execution_count": 13,
   "id": "642a8552-9e62-4200-a5cd-f6839bf4c291",
   "metadata": {},
   "outputs": [],
   "source": [
    "pd.set_option(\"display.max_rows\", None)\n",
    "transactions[[\"first_purchase\", \"COMMODITY_DESC\"]].groupby(\"COMMODITY_DESC\").mean().to_clipboard(excel=True)"
   ]
  },
  {
   "cell_type": "code",
   "execution_count": 1,
   "id": "d47d4032-8e73-4519-b2cc-f3619bf20848",
   "metadata": {
    "tags": []
   },
   "outputs": [
    {
     "ename": "NameError",
     "evalue": "name 'transactions' is not defined",
     "output_type": "error",
     "traceback": [
      "\u001b[1;31m---------------------------------------------------------------------------\u001b[0m",
      "\u001b[1;31mNameError\u001b[0m                                 Traceback (most recent call last)",
      "Input \u001b[1;32mIn [1]\u001b[0m, in \u001b[0;36m<cell line: 1>\u001b[1;34m()\u001b[0m\n\u001b[1;32m----> 1\u001b[0m pct_newp \u001b[38;5;241m=\u001b[39m \u001b[43mtransactions\u001b[49m[[\u001b[38;5;124m\"\u001b[39m\u001b[38;5;124mfirst_purchase\u001b[39m\u001b[38;5;124m\"\u001b[39m, \u001b[38;5;124m\"\u001b[39m\u001b[38;5;124mCOMMODITY_DESC\u001b[39m\u001b[38;5;124m\"\u001b[39m]]\u001b[38;5;241m.\u001b[39mgroupby(\u001b[38;5;124m\"\u001b[39m\u001b[38;5;124mCOMMODITY_DESC\u001b[39m\u001b[38;5;124m\"\u001b[39m)\u001b[38;5;241m.\u001b[39mmean()\n",
      "\u001b[1;31mNameError\u001b[0m: name 'transactions' is not defined"
     ]
    }
   ],
   "source": [
    "pct_newp = transactions[[\"first_purchase\", \"COMMODITY_DESC\"]].groupby(\"COMMODITY_DESC\").mean()"
   ]
  },
  {
   "cell_type": "code",
   "execution_count": null,
   "id": "527d618a-772f-4412-883e-fe541b7c8214",
   "metadata": {},
   "outputs": [],
   "source": [
    "#scatterplot number of transactions vs. % new purchases by product category\n",
    "fig, ax = plt.subplots(figsize=(20,5))\n",
    "axes.plot(len\n",
    "\n",
    "# Add feature names as x-axis labels\n",
    "axes.set_xticks(range(X.shape[1]));\n",
    "axes.set_xticklabels(f_names, rotation=45, ha='right');"
   ]
  }
 ],
 "metadata": {
  "kernelspec": {
   "display_name": "Python 3 (ipykernel)",
   "language": "python",
   "name": "python3"
  },
  "language_info": {
   "codemirror_mode": {
    "name": "ipython",
    "version": 3
   },
   "file_extension": ".py",
   "mimetype": "text/x-python",
   "name": "python",
   "nbconvert_exporter": "python",
   "pygments_lexer": "ipython3",
   "version": "3.9.12"
  }
 },
 "nbformat": 4,
 "nbformat_minor": 5
}
